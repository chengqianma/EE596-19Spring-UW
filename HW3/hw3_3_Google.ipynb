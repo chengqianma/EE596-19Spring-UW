{
 "cells": [
  {
   "cell_type": "code",
   "execution_count": null,
   "metadata": {},
   "outputs": [],
   "source": [
    "from IPython.core.display import display, HTML\n",
    "display(HTML(\"<style>.container { width:100% !important; }</style>\"))"
   ]
  },
  {
   "cell_type": "code",
   "execution_count": 1,
   "metadata": {},
   "outputs": [],
   "source": [
    "import numpy as np\n",
    "import matplotlib.pyplot as plt\n",
    "import pandas as pd\n",
    "import datetime\n",
    "from sklearn.preprocessing import MinMaxScaler\n",
    "import tensorflow as tf"
   ]
  },
  {
   "cell_type": "markdown",
   "metadata": {},
   "source": [
    "# Preprocess Data\n",
    "In the <b>HW3_template</b> folder you will find `TSLA.csv`, `GOOGL.csv` and `DJI.csv` files. Use Pandas (You have used it in HW1) to retrieve the dataset. Use only <b>Open</b> price as your input. (You will train three models for three different stocks, don't mix these data together!)"
   ]
  },
  {
   "cell_type": "code",
   "execution_count": 2,
   "metadata": {},
   "outputs": [
    {
     "name": "stdout",
     "output_type": "stream",
     "text": [
      "(3702, 7)\n"
     ]
    }
   ],
   "source": [
    "stock_name = \"GOOGL\"\n",
    "stock = pd.read_csv(\"GOOGL.csv\" )\n",
    "print(stock.shape)\n",
    "stock = stock['Open']"
   ]
  },
  {
   "cell_type": "code",
   "execution_count": 3,
   "metadata": {},
   "outputs": [
    {
     "data": {
      "text/plain": [
       "(3702,)"
      ]
     },
     "execution_count": 3,
     "metadata": {},
     "output_type": "execute_result"
    }
   ],
   "source": [
    "stock.shape"
   ]
  },
  {
   "cell_type": "code",
   "execution_count": 4,
   "metadata": {},
   "outputs": [],
   "source": [
    "stock = stock.values.reshape([3702,1])"
   ]
  },
  {
   "cell_type": "code",
   "execution_count": 5,
   "metadata": {},
   "outputs": [],
   "source": [
    "price_max = np.max(stock)\n",
    "price_min = np.min(stock)"
   ]
  },
  {
   "cell_type": "markdown",
   "metadata": {},
   "source": [
    "## Normalize your data\n",
    "You could use `MinMaxScaler` in `sklearn.preprocessing` to normalize the data between 0 and 1."
   ]
  },
  {
   "cell_type": "code",
   "execution_count": 6,
   "metadata": {},
   "outputs": [],
   "source": [
    "GOOGL_stock = MinMaxScaler().fit_transform(stock)"
   ]
  },
  {
   "cell_type": "markdown",
   "metadata": {},
   "source": [
    "# Split training, validation and testing data\n",
    "<p style=\"font-size:20px\">Since you will impelement a many-to-one Recurrent Neural Network model, every input data will have shape [batch_size, num_seq, input_size] and output data will have shape [batch_size, input_size] "
   ]
  },
  {
   "cell_type": "code",
   "execution_count": 8,
   "metadata": {},
   "outputs": [],
   "source": [
    "time_len = 10\n",
    "x = []\n",
    "y = []\n",
    "i = 0\n",
    "while(i + time_len) <= len(GOOGL_stock) - 1:\n",
    "    x.append(GOOGL_stock[i:i+time_len])\n",
    "    y.append(GOOGL_stock[i+time_len])\n",
    "    i+=1"
   ]
  },
  {
   "cell_type": "code",
   "execution_count": 9,
   "metadata": {},
   "outputs": [],
   "source": [
    "trainNo = int(np.ceil(len(y)*0.9))\n",
    "validNo = int(np.ceil(len(y)*0.05))\n",
    "x_train = np.array(x[:trainNo])\n",
    "y_train = np.array(y[:trainNo])\n",
    "x_valid = np.array(x[trainNo:trainNo+validNo])\n",
    "y_valid = np.array(y[trainNo:trainNo+validNo])\n",
    "x_test = np.array(x[trainNo+validNo:])\n",
    "y_test = np.array(y[trainNo+validNo:])"
   ]
  },
  {
   "cell_type": "code",
   "execution_count": 10,
   "metadata": {},
   "outputs": [
    {
     "name": "stdout",
     "output_type": "stream",
     "text": [
      "(3323, 10, 1)\n",
      "(185, 10, 1)\n",
      "(184, 10, 1)\n",
      "(3323, 1)\n"
     ]
    }
   ],
   "source": [
    "print(x_train.shape)\n",
    "print(x_valid.shape)\n",
    "print(x_test.shape)\n",
    "print(y_train.shape)"
   ]
  },
  {
   "cell_type": "markdown",
   "metadata": {},
   "source": [
    "# TesnorFlow Model"
   ]
  },
  {
   "cell_type": "code",
   "execution_count": 11,
   "metadata": {},
   "outputs": [],
   "source": [
    "batch_size = 32\n",
    "num_seq = 10\n",
    "input_size = 1\n",
    "learning_rate = 0.001\n",
    "hidden_layer = 200\n",
    "epochs = 50"
   ]
  },
  {
   "cell_type": "code",
   "execution_count": 12,
   "metadata": {},
   "outputs": [],
   "source": [
    "X = tf.placeholder(tf.float32, [None, num_seq, input_size])\n",
    "Y = tf.placeholder(tf.float32, [None, input_size])"
   ]
  },
  {
   "cell_type": "code",
   "execution_count": 13,
   "metadata": {},
   "outputs": [
    {
     "name": "stdout",
     "output_type": "stream",
     "text": [
      "WARNING:tensorflow:From f:\\anaconda\\envs\\envname\\lib\\site-packages\\tensorflow\\python\\framework\\op_def_library.py:263: colocate_with (from tensorflow.python.framework.ops) is deprecated and will be removed in a future version.\n",
      "Instructions for updating:\n",
      "Colocations handled automatically by placer.\n"
     ]
    }
   ],
   "source": [
    "# LSTM weights\n",
    "#Weights for the input gate\n",
    "weights_input_gate = tf.Variable(tf.truncated_normal([1, hidden_layer], stddev=0.05))\n",
    "weights_input_hidden = tf.Variable(tf.truncated_normal([hidden_layer, hidden_layer], stddev=0.05))\n",
    "bias_input = tf.Variable(tf.zeros([hidden_layer]))\n",
    "\n",
    "#weights for the forgot gate\n",
    "weights_forget_gate = tf.Variable(tf.truncated_normal([1, hidden_layer], stddev=0.05))\n",
    "weights_forget_hidden = tf.Variable(tf.truncated_normal([hidden_layer, hidden_layer], stddev=0.05))\n",
    "bias_forget = tf.Variable(tf.zeros([hidden_layer]))\n",
    "\n",
    "#weights for the output gate\n",
    "weights_output_gate = tf.Variable(tf.truncated_normal([1, hidden_layer], stddev=0.05))\n",
    "weights_output_hidden = tf.Variable(tf.truncated_normal([hidden_layer, hidden_layer], stddev=0.05))\n",
    "bias_output = tf.Variable(tf.zeros([hidden_layer]))\n",
    "\n",
    "#weights for the memory cell\n",
    "weights_memory_cell = tf.Variable(tf.truncated_normal([1, hidden_layer], stddev=0.05))\n",
    "weights_memory_cell_hidden = tf.Variable(tf.truncated_normal([hidden_layer, hidden_layer], stddev=0.05))\n",
    "bias_memory_cell = tf.Variable(tf.zeros([hidden_layer]))\n",
    "#weights for output\n",
    "weights_output = tf.Variable(tf.truncated_normal([hidden_layer, 1], stddev=0.05))\n",
    "bias_output_layer = tf.Variable(tf.zeros([1]))"
   ]
  },
  {
   "cell_type": "code",
   "execution_count": 14,
   "metadata": {},
   "outputs": [],
   "source": [
    "def LSTM_cell(input, output, state):\n",
    "    \n",
    "    input_gate = tf.sigmoid(tf.matmul(input, weights_input_gate) + tf.matmul(output, weights_input_hidden) + bias_input)\n",
    "    \n",
    "    forget_gate = tf.sigmoid(tf.matmul(input, weights_forget_gate) + tf.matmul(output, weights_forget_hidden) + bias_forget)\n",
    "    \n",
    "    output_gate = tf.sigmoid(tf.matmul(input, weights_output_gate) + tf.matmul(output, weights_output_hidden) + bias_output)\n",
    "    \n",
    "    memory_cell = tf.tanh(tf.matmul(input, weights_memory_cell) + tf.matmul(output, weights_memory_cell_hidden) + bias_memory_cell)\n",
    "    \n",
    "    state = state * forget_gate + input_gate * memory_cell\n",
    "    \n",
    "    output = output_gate * tf.tanh(state)\n",
    "    return state, output"
   ]
  },
  {
   "cell_type": "code",
   "execution_count": 15,
   "metadata": {},
   "outputs": [],
   "source": [
    "predict = []\n",
    "for i in range(batch_size): \n",
    "    batch_state = np.zeros([1, hidden_layer], dtype=np.float32) \n",
    "    batch_output = np.zeros([1, hidden_layer], dtype=np.float32)\n",
    "    \n",
    "    for j in range(time_len):\n",
    "        batch_state, batch_output = LSTM_cell(tf.reshape(X[i][j], (-1, 1)), batch_output, batch_state)\n",
    "    \n",
    "    predict.append(tf.matmul(batch_output, weights_output) + bias_output_layer)"
   ]
  },
  {
   "cell_type": "code",
   "execution_count": 16,
   "metadata": {},
   "outputs": [
    {
     "name": "stdout",
     "output_type": "stream",
     "text": [
      "WARNING:tensorflow:From f:\\anaconda\\envs\\envname\\lib\\site-packages\\tensorflow\\python\\ops\\losses\\losses_impl.py:667: to_float (from tensorflow.python.ops.math_ops) is deprecated and will be removed in a future version.\n",
      "Instructions for updating:\n",
      "Use tf.cast instead.\n"
     ]
    }
   ],
   "source": [
    "losses = []\n",
    "\n",
    "for i in range(len(predict)):\n",
    "    losses.append(tf.losses.mean_squared_error(tf.reshape(Y[i], (-1, 1)), predict[i]))  \n",
    "    \n",
    "loss = tf.reduce_mean(losses)"
   ]
  },
  {
   "cell_type": "code",
   "execution_count": 17,
   "metadata": {},
   "outputs": [],
   "source": [
    "#gradients = tf.gradients(loss, tf.trainable_variables())\n",
    "#clipped, _ = tf.clip_by_global_norm(gradients, clip_margin)\n",
    "optimizer = tf.train.AdamOptimizer(learning_rate)\n",
    "minimize = optimizer.minimize(loss)"
   ]
  },
  {
   "cell_type": "markdown",
   "metadata": {},
   "source": [
    "# Training"
   ]
  },
  {
   "cell_type": "code",
   "execution_count": 18,
   "metadata": {},
   "outputs": [
    {
     "name": "stdout",
     "output_type": "stream",
     "text": [
      "Epoch 1/50 Training loss: 0.005684739910066128 Validation loss: 0.0002460342657286674\n",
      "Epoch 6/50 Training loss: 7.194223871920258e-05 Validation loss: 0.0003843170707114041\n",
      "Epoch 11/50 Training loss: 0.00010595620551612228 Validation loss: 0.0001461596111766994\n",
      "Epoch 16/50 Training loss: 5.761286593042314e-05 Validation loss: 0.00011680558964144439\n",
      "Epoch 21/50 Training loss: 8.90238952706568e-05 Validation loss: 0.00011370655556675047\n",
      "Epoch 26/50 Training loss: 0.00010573441250016913 Validation loss: 0.00010362864850321785\n",
      "Epoch 31/50 Training loss: 6.81679739500396e-05 Validation loss: 9.859420242719352e-05\n",
      "Epoch 36/50 Training loss: 0.0001378342421958223 Validation loss: 9.163258073385805e-05\n",
      "Epoch 41/50 Training loss: 0.00016585635603405535 Validation loss: 8.541468559997156e-05\n",
      "Epoch 46/50 Training loss: 0.0001417863240931183 Validation loss: 8.034512575250119e-05\n"
     ]
    }
   ],
   "source": [
    "init = tf.global_variables_initializer()\n",
    "saver = tf.train.Saver()\n",
    "with tf.Session() as sess:\n",
    "    sess.run(init)\n",
    "    for i in range(epochs):\n",
    "        #traind_scores = []\n",
    "        j = 0\n",
    "        #epoch_loss = []\n",
    "        #val_epoch_loss = []\n",
    "        while(j + batch_size) <= len(x_train):\n",
    "            x_batch = x_train[j:j+batch_size]\n",
    "            y_batch = y_train[j:j+batch_size]      \n",
    "            ct = sess.run(loss, feed_dict={X:x_batch, Y:y_batch}) \n",
    "            sess.run([minimize], feed_dict={X:x_batch, Y:y_batch})\n",
    "            #epoch_loss.append(ct)\n",
    "            #traind_scores.append(output)\n",
    "            j+=batch_size        \n",
    "        \n",
    "        if i % 5 == 0:\n",
    "            ct_v = sess.run(loss, feed_dict={X:x_valid, Y:y_valid})                \n",
    "            print('Epoch {}/{}'.format(i+1, epochs), 'Training loss: {}'.format(ct),'Validation loss: {}'.format(ct_v))\n",
    "    \n",
    "    save_path = saver.save(sess, 'model.ckpt')\n",
    "        #print(ct)"
   ]
  },
  {
   "cell_type": "markdown",
   "metadata": {},
   "source": [
    "# Testing"
   ]
  },
  {
   "cell_type": "code",
   "execution_count": 19,
   "metadata": {},
   "outputs": [
    {
     "name": "stdout",
     "output_type": "stream",
     "text": [
      "WARNING:tensorflow:From f:\\anaconda\\envs\\envname\\lib\\site-packages\\tensorflow\\python\\training\\saver.py:1266: checkpoint_exists (from tensorflow.python.training.checkpoint_management) is deprecated and will be removed in a future version.\n",
      "Instructions for updating:\n",
      "Use standard file APIs to check for files with this prefix.\n",
      "INFO:tensorflow:Restoring parameters from model.ckpt\n"
     ]
    },
    {
     "data": {
      "image/png": "[encoded data removed]",
      "text/plain": [
       "<Figure size 864x432 with 1 Axes>"
      ]
     },
     "metadata": {
      "needs_background": "light"
     },
     "output_type": "display_data"
    }
   ],
   "source": [
    "preds = []\n",
    "i = 0\n",
    "with tf.Session() as sess:\n",
    "    saver.restore(sess, \"model.ckpt\")\n",
    "    while i+batch_size <= len(x_test):\n",
    "        output = sess.run(predict, feed_dict={X:x_test[i:i+batch_size]})\n",
    "        i += batch_size\n",
    "        preds.append(output)\n",
    "    \n",
    "    preds = np.squeeze(np.asarray(preds)).flatten()\n",
    "    preds = preds*(price_max - price_min) + price_min\n",
    "    y_test = y_test*(price_max - price_min) + price_min\n",
    "    plt.figure(figsize=(12,6))\n",
    "    plt.plot(range(100),y_test[0:100],color='blue')\n",
    "    plt.plot(range(100),preds[0:100],color='red')\n",
    "    plt.legend(['Ground Truth','Prediction'])\n",
    "    plt.xlabel('t')\n",
    "    plt.ylabel('Price')\n",
    "    plt.title('Google Stock Price Prediction')\n",
    "    plt.show()"
   ]
  }
 ],
 "metadata": {
  "kernelspec": {
   "display_name": "Python 3",
   "language": "python",
   "name": "python3"
  },
  "language_info": {
   "codemirror_mode": {
    "name": "ipython",
    "version": 3
   },
   "file_extension": ".py",
   "mimetype": "text/x-python",
   "name": "python",
   "nbconvert_exporter": "python",
   "pygments_lexer": "ipython3",
   "version": "3.7.3"
  }
 },
 "nbformat": 4,
 "nbformat_minor": 2
}
