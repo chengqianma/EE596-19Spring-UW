{
 "cells": [
  {
   "cell_type": "code",
   "execution_count": null,
   "metadata": {},
   "outputs": [],
   "source": [
    "from IPython.core.display import display, HTML\n",
    "display(HTML(\"<style>.container { width:100% !important; }</style>\"))"
   ]
  },
  {
   "cell_type": "code",
   "execution_count": 1,
   "metadata": {},
   "outputs": [],
   "source": [
    "import numpy as np\n",
    "import matplotlib.pyplot as plt\n",
    "import pandas as pd\n",
    "import datetime\n",
    "from sklearn.preprocessing import MinMaxScaler\n",
    "import tensorflow as tf"
   ]
  },
  {
   "cell_type": "markdown",
   "metadata": {},
   "source": [
    "# Preprocess Data\n",
    "In the <b>HW3_template</b> folder you will find `TSLA.csv`, `GOOGL.csv` and `DJI.csv` files. Use Pandas (You have used it in HW1) to retrieve the dataset. Use only <b>Open</b> price as your input. (You will train three models for three different stocks, don't mix these data together!)"
   ]
  },
  {
   "cell_type": "code",
   "execution_count": 2,
   "metadata": {},
   "outputs": [
    {
     "name": "stdout",
     "output_type": "stream",
     "text": [
      "(8636, 7)\n"
     ]
    }
   ],
   "source": [
    "stock_name = \"DJI\"\n",
    "stock = pd.read_csv(\"DJI.csv\" )\n",
    "print(stock.shape)\n",
    "stock = stock['Open']"
   ]
  },
  {
   "cell_type": "code",
   "execution_count": 3,
   "metadata": {},
   "outputs": [
    {
     "data": {
      "text/plain": [
       "(8636,)"
      ]
     },
     "execution_count": 3,
     "metadata": {},
     "output_type": "execute_result"
    }
   ],
   "source": [
    "stock.shape"
   ]
  },
  {
   "cell_type": "code",
   "execution_count": 4,
   "metadata": {},
   "outputs": [],
   "source": [
    "stock = stock.values.reshape([8636,1])"
   ]
  },
  {
   "cell_type": "code",
   "execution_count": 5,
   "metadata": {},
   "outputs": [],
   "source": [
    "price_max = np.max(stock)\n",
    "price_min = np.min(stock)"
   ]
  },
  {
   "cell_type": "markdown",
   "metadata": {},
   "source": [
    "## Normalize your data\n",
    "You could use `MinMaxScaler` in `sklearn.preprocessing` to normalize the data between 0 and 1."
   ]
  },
  {
   "cell_type": "code",
   "execution_count": 6,
   "metadata": {},
   "outputs": [],
   "source": [
    "DJI_stock = MinMaxScaler().fit_transform(stock)"
   ]
  },
  {
   "cell_type": "markdown",
   "metadata": {},
   "source": [
    "# Split training, validation and testing data\n",
    "<p style=\"font-size:20px\">Since you will impelement a many-to-one Recurrent Neural Network model, every input data will have shape [batch_size, num_seq, input_size] and output data will have shape [batch_size, input_size] "
   ]
  },
  {
   "cell_type": "code",
   "execution_count": 7,
   "metadata": {},
   "outputs": [],
   "source": [
    "time_len = 10\n",
    "x = []\n",
    "y = []\n",
    "i = 0\n",
    "while(i + time_len) <= len(DJI_stock) - 1:\n",
    "    x.append(DJI_stock[i:i+time_len])\n",
    "    y.append(DJI_stock[i+time_len])\n",
    "    i+=1"
   ]
  },
  {
   "cell_type": "code",
   "execution_count": 8,
   "metadata": {},
   "outputs": [],
   "source": [
    "trainNo = int(np.ceil(len(y)*0.9))\n",
    "validNo = int(np.ceil(len(y)*0.05))\n",
    "x_train = np.array(x[:trainNo])\n",
    "y_train = np.array(y[:trainNo])\n",
    "x_valid = np.array(x[trainNo:trainNo+validNo])\n",
    "y_valid = np.array(y[trainNo:trainNo+validNo])\n",
    "x_test = np.array(x[trainNo+validNo:])\n",
    "y_test = np.array(y[trainNo+validNo:])"
   ]
  },
  {
   "cell_type": "code",
   "execution_count": 9,
   "metadata": {},
   "outputs": [
    {
     "name": "stdout",
     "output_type": "stream",
     "text": [
      "(7764, 10, 1)\n",
      "(432, 10, 1)\n",
      "(430, 10, 1)\n",
      "(7764, 1)\n"
     ]
    }
   ],
   "source": [
    "print(x_train.shape)\n",
    "print(x_valid.shape)\n",
    "print(x_test.shape)\n",
    "print(y_train.shape)"
   ]
  },
  {
   "cell_type": "code",
   "execution_count": null,
   "metadata": {},
   "outputs": [],
   "source": []
  },
  {
   "cell_type": "markdown",
   "metadata": {},
   "source": [
    "# TesnorFlow Model"
   ]
  },
  {
   "cell_type": "code",
   "execution_count": 10,
   "metadata": {},
   "outputs": [],
   "source": [
    "batch_size = 32\n",
    "num_seq = 10\n",
    "input_size = 1\n",
    "learning_rate = 0.0005\n",
    "hidden_layer = 256\n",
    "epochs = 20"
   ]
  },
  {
   "cell_type": "code",
   "execution_count": 11,
   "metadata": {},
   "outputs": [],
   "source": [
    "X = tf.placeholder(tf.float32, [None, num_seq, input_size])\n",
    "Y = tf.placeholder(tf.float32, [None, input_size])"
   ]
  },
  {
   "cell_type": "code",
   "execution_count": 12,
   "metadata": {},
   "outputs": [
    {
     "name": "stdout",
     "output_type": "stream",
     "text": [
      "WARNING:tensorflow:From f:\\anaconda\\envs\\envname\\lib\\site-packages\\tensorflow\\python\\framework\\op_def_library.py:263: colocate_with (from tensorflow.python.framework.ops) is deprecated and will be removed in a future version.\n",
      "Instructions for updating:\n",
      "Colocations handled automatically by placer.\n"
     ]
    }
   ],
   "source": [
    "# LSTM weights\n",
    "#Weights for the input gate\n",
    "weights_input_gate = tf.Variable(tf.truncated_normal([1, hidden_layer], stddev=0.05))\n",
    "weights_input_hidden = tf.Variable(tf.truncated_normal([hidden_layer, hidden_layer], stddev=0.05))\n",
    "bias_input = tf.Variable(tf.zeros([hidden_layer]))\n",
    "\n",
    "#weights for the forgot gate\n",
    "weights_forget_gate = tf.Variable(tf.truncated_normal([1, hidden_layer], stddev=0.05))\n",
    "weights_forget_hidden = tf.Variable(tf.truncated_normal([hidden_layer, hidden_layer], stddev=0.05))\n",
    "bias_forget = tf.Variable(tf.zeros([hidden_layer]))\n",
    "\n",
    "#weights for the output gate\n",
    "weights_output_gate = tf.Variable(tf.truncated_normal([1, hidden_layer], stddev=0.05))\n",
    "weights_output_hidden = tf.Variable(tf.truncated_normal([hidden_layer, hidden_layer], stddev=0.05))\n",
    "bias_output = tf.Variable(tf.zeros([hidden_layer]))\n",
    "\n",
    "#weights for the memory cell\n",
    "weights_memory_cell = tf.Variable(tf.truncated_normal([1, hidden_layer], stddev=0.05))\n",
    "weights_memory_cell_hidden = tf.Variable(tf.truncated_normal([hidden_layer, hidden_layer], stddev=0.05))\n",
    "bias_memory_cell = tf.Variable(tf.zeros([hidden_layer]))\n",
    "#weights for output\n",
    "weights_output = tf.Variable(tf.truncated_normal([hidden_layer, 1], stddev=0.05))\n",
    "bias_output_layer = tf.Variable(tf.zeros([1]))"
   ]
  },
  {
   "cell_type": "code",
   "execution_count": 13,
   "metadata": {},
   "outputs": [],
   "source": [
    "def LSTM_cell(input, output, state):\n",
    "    \n",
    "    input_gate = tf.sigmoid(tf.matmul(input, weights_input_gate) + tf.matmul(output, weights_input_hidden) + bias_input)\n",
    "    \n",
    "    forget_gate = tf.sigmoid(tf.matmul(input, weights_forget_gate) + tf.matmul(output, weights_forget_hidden) + bias_forget)\n",
    "    \n",
    "    output_gate = tf.sigmoid(tf.matmul(input, weights_output_gate) + tf.matmul(output, weights_output_hidden) + bias_output)\n",
    "    \n",
    "    memory_cell = tf.tanh(tf.matmul(input, weights_memory_cell) + tf.matmul(output, weights_memory_cell_hidden) + bias_memory_cell)\n",
    "    \n",
    "    state = state * forget_gate + input_gate * memory_cell\n",
    "    \n",
    "    output = output_gate * tf.tanh(state)\n",
    "    return state, output"
   ]
  },
  {
   "cell_type": "code",
   "execution_count": 14,
   "metadata": {},
   "outputs": [],
   "source": [
    "predict = []\n",
    "for i in range(batch_size): \n",
    "    batch_state = np.zeros([1, hidden_layer], dtype=np.float32) \n",
    "    batch_output = np.zeros([1, hidden_layer], dtype=np.float32)\n",
    "    \n",
    "    for j in range(time_len):\n",
    "        batch_state, batch_output = LSTM_cell(tf.reshape(X[i][j], (-1, 1)), batch_output, batch_state)\n",
    "    \n",
    "    predict.append(tf.matmul(batch_output, weights_output) + bias_output_layer)"
   ]
  },
  {
   "cell_type": "code",
   "execution_count": 15,
   "metadata": {},
   "outputs": [
    {
     "name": "stdout",
     "output_type": "stream",
     "text": [
      "WARNING:tensorflow:From f:\\anaconda\\envs\\envname\\lib\\site-packages\\tensorflow\\python\\ops\\losses\\losses_impl.py:667: to_float (from tensorflow.python.ops.math_ops) is deprecated and will be removed in a future version.\n",
      "Instructions for updating:\n",
      "Use tf.cast instead.\n"
     ]
    }
   ],
   "source": [
    "losses = []\n",
    "\n",
    "for i in range(len(predict)):\n",
    "    losses.append(tf.losses.mean_squared_error(tf.reshape(Y[i], (-1, 1)), predict[i]))  \n",
    "    \n",
    "loss = tf.reduce_mean(losses)"
   ]
  },
  {
   "cell_type": "code",
   "execution_count": 16,
   "metadata": {},
   "outputs": [],
   "source": [
    "#gradients = tf.gradients(loss, tf.trainable_variables())\n",
    "#clipped, _ = tf.clip_by_global_norm(gradients, clip_margin)\n",
    "optimizer = tf.train.AdamOptimizer(learning_rate)\n",
    "minimize = optimizer.minimize(loss)"
   ]
  },
  {
   "cell_type": "markdown",
   "metadata": {},
   "source": [
    "# Training"
   ]
  },
  {
   "cell_type": "code",
   "execution_count": 17,
   "metadata": {},
   "outputs": [
    {
     "name": "stdout",
     "output_type": "stream",
     "text": [
      "Epoch 1/20 Training loss: 0.0002643328334670514 Validation loss: 0.0006269959849305451\n",
      "Epoch 3/20 Training loss: 0.0001718749408610165 Validation loss: 0.00038982450496405363\n",
      "Epoch 5/20 Training loss: 0.0013349882792681456 Validation loss: 0.0006805059965699911\n",
      "Epoch 7/20 Training loss: 9.251754818251356e-05 Validation loss: 0.00010199983807979152\n",
      "Epoch 9/20 Training loss: 5.7451270549790934e-05 Validation loss: 8.991821232484654e-05\n",
      "Epoch 11/20 Training loss: 5.910990876145661e-05 Validation loss: 8.524185977876186e-05\n",
      "Epoch 13/20 Training loss: 6.03513399255462e-05 Validation loss: 8.749245898798108e-05\n",
      "Epoch 15/20 Training loss: 6.408379704225808e-05 Validation loss: 0.0001138273801188916\n",
      "Epoch 17/20 Training loss: 6.74584589432925e-05 Validation loss: 0.00012651621364057064\n",
      "Epoch 19/20 Training loss: 6.799235416110605e-05 Validation loss: 0.0001287204649997875\n"
     ]
    }
   ],
   "source": [
    "init = tf.global_variables_initializer()\n",
    "saver = tf.train.Saver()\n",
    "with tf.Session() as sess:\n",
    "    sess.run(init)\n",
    "    for i in range(epochs):\n",
    "        j = 0\n",
    "        while(j + batch_size) <= len(x_train):\n",
    "            x_batch = x_train[j:j+batch_size]\n",
    "            y_batch = y_train[j:j+batch_size]      \n",
    "            ct = sess.run(loss, feed_dict={X:x_batch, Y:y_batch}) \n",
    "            sess.run([minimize], feed_dict={X:x_batch, Y:y_batch})\n",
    "\n",
    "            j+=batch_size       \n",
    "        if i % 2 == 0:\n",
    "            ct_v = sess.run(loss, feed_dict={X:x_valid, Y:y_valid})                \n",
    "            print('Epoch {}/{}'.format(i+1, epochs), 'Training loss: {}'.format(ct),'Validation loss: {}'.format(ct_v))\n",
    "    \n",
    "    save_path = saver.save(sess, 'model2.ckpt')\n"
   ]
  },
  {
   "cell_type": "markdown",
   "metadata": {},
   "source": [
    "# Testing"
   ]
  },
  {
   "cell_type": "code",
   "execution_count": 18,
   "metadata": {},
   "outputs": [
    {
     "name": "stdout",
     "output_type": "stream",
     "text": [
      "WARNING:tensorflow:From f:\\anaconda\\envs\\envname\\lib\\site-packages\\tensorflow\\python\\training\\saver.py:1266: checkpoint_exists (from tensorflow.python.training.checkpoint_management) is deprecated and will be removed in a future version.\n",
      "Instructions for updating:\n",
      "Use standard file APIs to check for files with this prefix.\n",
      "INFO:tensorflow:Restoring parameters from model2.ckpt\n"
     ]
    },
    {
     "data": {
      "image/png": "[encoded data removed]",
      "text/plain": [
       "<Figure size 864x432 with 1 Axes>"
      ]
     },
     "metadata": {
      "needs_background": "light"
     },
     "output_type": "display_data"
    }
   ],
   "source": [
    "preds = []\n",
    "i = 0\n",
    "saver = tf.train.Saver()\n",
    "with tf.Session() as sess:\n",
    "    saver.restore(sess, \"model2.ckpt\")\n",
    "    while i+batch_size <= len(x_test):\n",
    "        output = sess.run(predict, feed_dict={X:x_test[i:i+batch_size]})\n",
    "        i += batch_size\n",
    "        preds.append(output)\n",
    "    \n",
    "    preds = np.squeeze(np.asarray(preds)).flatten()\n",
    "    preds = preds*(price_max - price_min) + price_min\n",
    "    y_test = y_test*(price_max - price_min) + price_min\n",
    "    plt.figure(figsize=(12,6))\n",
    "    plt.plot(range(100),y_test[0:100],color='blue')\n",
    "    plt.plot(range(100),preds[0:100],color='red')\n",
    "    plt.legend(['Ground Truth','Prediction'])\n",
    "    plt.xlabel('t')\n",
    "    plt.ylabel('Index')\n",
    "    plt.title('Dow Jones Industrial Average Prediction')\n",
    "    plt.show()"
   ]
  },
  {
   "cell_type": "code",
   "execution_count": null,
   "metadata": {},
   "outputs": [],
   "source": []
  },
  {
   "cell_type": "code",
   "execution_count": null,
   "metadata": {},
   "outputs": [],
   "source": []
  }
 ],
 "metadata": {
  "kernelspec": {
   "display_name": "Python 3",
   "language": "python",
   "name": "python3"
  },
  "language_info": {
   "codemirror_mode": {
    "name": "ipython",
    "version": 3
   },
   "file_extension": ".py",
   "mimetype": "text/x-python",
   "name": "python",
   "nbconvert_exporter": "python",
   "pygments_lexer": "ipython3",
   "version": "3.7.3"
  }
 },
 "nbformat": 4,
 "nbformat_minor": 2
}
