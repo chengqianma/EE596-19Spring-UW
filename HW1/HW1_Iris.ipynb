{
 "cells": [
  {
   "cell_type": "code",
   "execution_count": 1,
   "metadata": {},
   "outputs": [],
   "source": [
    "import tensorflow as tf\n",
    "import numpy as np\n",
    "import pandas as pd\n",
    "from pandas import get_dummies\n",
    "import matplotlib.pyplot as plt\n",
    "from sklearn.model_selection import train_test_split"
   ]
  },
  {
   "cell_type": "markdown",
   "metadata": {},
   "source": [
    "<h1>Load data</h1>"
   ]
  },
  {
   "cell_type": "code",
   "execution_count": 2,
   "metadata": {},
   "outputs": [],
   "source": [
    "file_name = \"F:\\EE596\\iris.data.csv\""
   ]
  },
  {
   "cell_type": "code",
   "execution_count": 3,
   "metadata": {},
   "outputs": [
    {
     "data": {
      "text/html": [
       "<div>\n",
       "<style scoped>\n",
       "    .dataframe tbody tr th:only-of-type {\n",
       "        vertical-align: middle;\n",
       "    }\n",
       "\n",
       "    .dataframe tbody tr th {\n",
       "        vertical-align: top;\n",
       "    }\n",
       "\n",
       "    .dataframe thead th {\n",
       "        text-align: right;\n",
       "    }\n",
       "</style>\n",
       "<table border=\"1\" class=\"dataframe\">\n",
       "  <thead>\n",
       "    <tr style=\"text-align: right;\">\n",
       "      <th></th>\n",
       "      <th>sepal_length</th>\n",
       "      <th>sepal_width</th>\n",
       "      <th>petal_length</th>\n",
       "      <th>petal_width</th>\n",
       "      <th>species</th>\n",
       "    </tr>\n",
       "  </thead>\n",
       "  <tbody>\n",
       "    <tr>\n",
       "      <th>0</th>\n",
       "      <td>5.1</td>\n",
       "      <td>3.5</td>\n",
       "      <td>1.4</td>\n",
       "      <td>0.2</td>\n",
       "      <td>Iris-setosa</td>\n",
       "    </tr>\n",
       "    <tr>\n",
       "      <th>1</th>\n",
       "      <td>4.9</td>\n",
       "      <td>3.0</td>\n",
       "      <td>1.4</td>\n",
       "      <td>0.2</td>\n",
       "      <td>Iris-setosa</td>\n",
       "    </tr>\n",
       "    <tr>\n",
       "      <th>2</th>\n",
       "      <td>4.7</td>\n",
       "      <td>3.2</td>\n",
       "      <td>1.3</td>\n",
       "      <td>0.2</td>\n",
       "      <td>Iris-setosa</td>\n",
       "    </tr>\n",
       "    <tr>\n",
       "      <th>3</th>\n",
       "      <td>4.6</td>\n",
       "      <td>3.1</td>\n",
       "      <td>1.5</td>\n",
       "      <td>0.2</td>\n",
       "      <td>Iris-setosa</td>\n",
       "    </tr>\n",
       "    <tr>\n",
       "      <th>4</th>\n",
       "      <td>5.0</td>\n",
       "      <td>3.6</td>\n",
       "      <td>1.4</td>\n",
       "      <td>0.2</td>\n",
       "      <td>Iris-setosa</td>\n",
       "    </tr>\n",
       "  </tbody>\n",
       "</table>\n",
       "</div>"
      ],
      "text/plain": [
       "   sepal_length  sepal_width  petal_length  petal_width      species\n",
       "0           5.1          3.5           1.4          0.2  Iris-setosa\n",
       "1           4.9          3.0           1.4          0.2  Iris-setosa\n",
       "2           4.7          3.2           1.3          0.2  Iris-setosa\n",
       "3           4.6          3.1           1.5          0.2  Iris-setosa\n",
       "4           5.0          3.6           1.4          0.2  Iris-setosa"
      ]
     },
     "execution_count": 3,
     "metadata": {},
     "output_type": "execute_result"
    }
   ],
   "source": [
    "#load the dataset into memory\n",
    "dataset = pd.read_csv(file_name,header=None,\\\n",
    "                      names=['sepal_length','sepal_width','petal_length','petal_width','species'])\n",
    "#check several examples of data\n",
    "dataset.head()"
   ]
  },
  {
   "cell_type": "markdown",
   "metadata": {},
   "source": [
    "<h1>Data preprocessing</h1>"
   ]
  },
  {
   "cell_type": "code",
   "execution_count": 4,
   "metadata": {},
   "outputs": [],
   "source": [
    "#simple function to process the data.\n",
    "\"\"\"\n",
    "input:\n",
    "    data: iris dataset\n",
    "    num_features: 2 => select only petal width and petal width.\n",
    "                  4 => select all features\n",
    "    flower: 'Iris-setosa' => labels of Iris-setosa will be 1 and others will be 0\n",
    "            'Iris-virginica' => labels of Iris-virginica will be 1 and others will be 0\n",
    "            'None' => use one-hot encoding to represent the labels\n",
    "\n",
    "return:\n",
    "    x: normalized & shuffled data\n",
    "    y: labels\n",
    "\"\"\"\n",
    "def data_preprocessing(data,num_features,flower=None):\n",
    "    if num_features==2:\n",
    "        features = data.columns[2:4]\n",
    "    else:\n",
    "        features = data.columns[0:4]\n",
    "    labels = dataset.columns[4]\n",
    "    print(features)\n",
    "    print(labels)\n",
    "    #normalize the data\n",
    "    data_norm = pd.DataFrame(data)\n",
    "    for feature in features:\n",
    "        data[feature] = (data[feature]-data[feature].mean())/data[feature].std()\n",
    "\n",
    "    #shuffle the data\n",
    "    indices = data_norm.index.tolist()\n",
    "    indices = np.array(indices)\n",
    "    np.random.shuffle(indices)\n",
    "    x = data_norm.reindex(indices)[features]\n",
    "    y = data_norm.reindex(indices)[labels]\n",
    "    if flower=='Iris-setosa':\n",
    "        for i in range(len(y)):\n",
    "            y[i]=1 if y[i]=='Iris-setosa' else 0\n",
    "        y = y.values.reshape(len(y),1)\n",
    "    elif flower=='Iris-virginica':\n",
    "        for i in range(len(y)):\n",
    "            y[i]=1 if y[i]=='Iris-virginica' else 0\n",
    "        y = y.values.reshape(len(y),1)\n",
    "    else:\n",
    "        y = get_dummies(y)\n",
    "    return x,y"
   ]
  },
  {
   "cell_type": "markdown",
   "metadata": {},
   "source": [
    "<h1>Part a:"
   ]
  },
  {
   "cell_type": "code",
   "execution_count": 5,
   "metadata": {},
   "outputs": [
    {
     "name": "stdout",
     "output_type": "stream",
     "text": [
      "Index(['petal_length', 'petal_width'], dtype='object')\n",
      "species\n",
      "     petal_length  petal_width\n",
      "16      -1.393470    -1.046525\n",
      "96       0.250129     0.132781\n",
      "120      1.100267     1.443121\n",
      "99       0.193454     0.132781\n",
      "66       0.420157     0.394849\n",
      "115      0.873564     1.443121\n",
      "59       0.080102     0.263815\n",
      "106      0.420157     0.656917\n",
      "108      1.156943     0.787951\n",
      "76       0.590184     0.263815\n",
      "124      1.100267     1.181053\n",
      "110      0.760212     1.050019\n",
      "139      0.930239     1.181053\n",
      "116      0.986915     0.787951\n",
      "109      1.326970     1.705189\n",
      "141      0.760212     1.443121\n",
      "5       -1.166767    -1.046525\n",
      "140      1.043591     1.574155\n",
      "86       0.533509     0.394849\n",
      "1       -1.336794    -1.308593\n",
      "111      0.873564     0.918985\n",
      "36      -1.393470    -1.308593\n",
      "136      1.043591     1.574155\n",
      "102      1.213619     1.181053\n",
      "74       0.306805     0.132781\n",
      "133      0.760212     0.394849\n",
      "44      -1.053415    -1.046525\n",
      "49      -1.336794    -1.308593\n",
      "134      1.043591     0.263815\n",
      "119      0.703536     0.394849\n",
      "..            ...          ...\n",
      "104      1.156943     1.312087\n",
      "60      -0.146601    -0.260321\n",
      "103      1.043591     0.787951\n",
      "21      -1.280118    -1.046525\n",
      "25      -1.223442    -1.308593\n",
      "129      1.156943     0.525883\n",
      "148      0.930239     1.443121\n",
      "7       -1.280118    -1.308593\n",
      "146      0.703536     0.918985\n",
      "23      -1.166767    -0.915491\n",
      "51       0.420157     0.394849\n",
      "78       0.420157     0.394849\n",
      "46      -1.223442    -1.308593\n",
      "118      1.780377     1.443121\n",
      "135      1.326970     1.443121\n",
      "42      -1.393470    -1.308593\n",
      "2       -1.393470    -1.308593\n",
      "67       0.193454    -0.260321\n",
      "53       0.136778     0.132781\n",
      "123      0.646860     0.787951\n",
      "72       0.646860     0.394849\n",
      "138      0.590184     0.787951\n",
      "45      -1.336794    -1.177559\n",
      "27      -1.280118    -1.308593\n",
      "22      -1.563497    -1.308593\n",
      "26      -1.223442    -1.046525\n",
      "122      1.667025     1.050019\n",
      "14      -1.450146    -1.308593\n",
      "107      1.440322     0.787951\n",
      "17      -1.336794    -1.177559\n",
      "\n",
      "[105 rows x 2 columns]\n",
      "-1.2801181856236823\n"
     ]
    }
   ],
   "source": [
    "x_1,y_1 = data_preprocessing(dataset,2,flower='Iris-setosa')\n",
    "#generate traning and validation sets\n",
    "x_train_1, x_test_1, y_train_1, y_test_1 = train_test_split(x_1,y_1,test_size=0.3)\n",
    "print(x_train_1)\n",
    "print(x_train_1['petal_length'][39])"
   ]
  },
  {
   "cell_type": "markdown",
   "metadata": {},
   "source": [
    "<h2>Define hyper-parameters</h2>"
   ]
  },
  {
   "cell_type": "code",
   "execution_count": 6,
   "metadata": {},
   "outputs": [],
   "source": [
    "lr = 0.01\n",
    "num_steps = 200\n",
    "#n_hidden_1 = 64\n",
    "#n_hidden_2 = 32\n",
    "num_input = 105\n",
    "test_num = 45"
   ]
  },
  {
   "cell_type": "markdown",
   "metadata": {},
   "source": [
    "<h2>Define Placeholder and Variables</h2>"
   ]
  },
  {
   "cell_type": "code",
   "execution_count": 7,
   "metadata": {},
   "outputs": [
    {
     "name": "stdout",
     "output_type": "stream",
     "text": [
      "WARNING:tensorflow:From f:\\anaconda\\envs\\envname\\lib\\site-packages\\tensorflow\\python\\framework\\op_def_library.py:263: colocate_with (from tensorflow.python.framework.ops) is deprecated and will be removed in a future version.\n",
      "Instructions for updating:\n",
      "Colocations handled automatically by placer.\n"
     ]
    }
   ],
   "source": [
    "tf.reset_default_graph()\n",
    "X = tf.placeholder(tf.float32,shape=[num_input,2],name='X')\n",
    "Y = tf.placeholder(tf.float32,shape=[num_input,1],name='Y')\n",
    "A = tf.placeholder(tf.float32,shape=[test_num,2],name='A')\n",
    "B = tf.placeholder(tf.float32,shape=[test_num,1],name='B')\n",
    "W = tf.Variable(tf.random_normal([2,1]),tf.float32,name='W')\n",
    "#define the bias with zero initialization\n",
    "b = tf.Variable(tf.zeros([1,1]),tf.float32,name='b')"
   ]
  },
  {
   "cell_type": "markdown",
   "metadata": {},
   "source": [
    "<h2>Define update rule and accuracy</h2>"
   ]
  },
  {
   "cell_type": "code",
   "execution_count": 8,
   "metadata": {},
   "outputs": [],
   "source": [
    "Y_hat = tf.sigmoid(tf.add(tf.matmul(X,W),b))\n",
    "B_hat = tf.sigmoid(tf.add(tf.matmul(A,W),b))\n",
    "loss = tf.reduce_mean(tf.square(Y-Y_hat))\n",
    "optimizer = tf.train.AdamOptimizer(learning_rate = lr)\n",
    "train_op = optimizer.minimize(loss)\n",
    "#dW = tf.matmul(tf.transpose(X),loss)\n",
    "#db = tf.reduce_sum(loss,0)\n",
    "#W_ = W + lr*dW\n",
    "#b_ = b + lr*db\n",
    "correct_pred = tf.equal(tf.round(Y_hat),Y)\n",
    "correct_prediction = tf.equal(tf.round(B_hat),B)\n",
    "accuracy = tf.reduce_mean(tf.cast(correct_pred,tf.float32))\n",
    "accur = tf.reduce_mean(tf.cast(correct_prediction,tf.float32))\n",
    "#group two operations together\n",
    "#step = tf.group(W.assign(W_), b.assign(b_))"
   ]
  },
  {
   "cell_type": "markdown",
   "metadata": {},
   "source": [
    "<h2>Execute training</h2>"
   ]
  },
  {
   "cell_type": "code",
   "execution_count": 9,
   "metadata": {
    "scrolled": false
   },
   "outputs": [
    {
     "name": "stdout",
     "output_type": "stream",
     "text": [
      "step 0, cost= 0.097\n",
      "step 0, Accuracy= 0.933333337\n",
      "step 10, cost= 0.078\n",
      "step 10, Accuracy= 0.942857146\n",
      "step 20, cost= 0.063\n",
      "step 20, Accuracy= 0.952380955\n",
      "step 30, cost= 0.053\n",
      "step 30, Accuracy= 0.971428573\n",
      "step 40, cost= 0.046\n",
      "step 40, Accuracy= 0.971428573\n",
      "step 50, cost= 0.040\n",
      "step 50, Accuracy= 0.971428573\n",
      "step 60, cost= 0.036\n",
      "step 60, Accuracy= 0.990476191\n",
      "step 70, cost= 0.033\n",
      "step 70, Accuracy= 0.990476191\n",
      "step 80, cost= 0.030\n",
      "step 80, Accuracy= 0.990476191\n",
      "step 90, cost= 0.027\n",
      "step 90, Accuracy= 0.990476191\n",
      "step 100, cost= 0.025\n",
      "step 100, Accuracy= 0.990476191\n",
      "step 110, cost= 0.023\n",
      "step 110, Accuracy= 0.990476191\n",
      "step 120, cost= 0.022\n",
      "step 120, Accuracy= 1.000000000\n",
      "step 130, cost= 0.020\n",
      "step 130, Accuracy= 1.000000000\n",
      "step 140, cost= 0.019\n",
      "step 140, Accuracy= 1.000000000\n",
      "step 150, cost= 0.018\n",
      "step 150, Accuracy= 1.000000000\n",
      "step 160, cost= 0.017\n",
      "step 160, Accuracy= 1.000000000\n",
      "step 170, cost= 0.016\n",
      "step 170, Accuracy= 1.000000000\n",
      "step 180, cost= 0.015\n",
      "step 180, Accuracy= 1.000000000\n",
      "step 190, cost= 0.015\n",
      "step 190, Accuracy= 1.000000000\n",
      "Test Accuracy:1.0\n"
     ]
    }
   ],
   "source": [
    "init = tf.global_variables_initializer()\n",
    "acc_1 = np.zeros(num_steps)\n",
    "with tf.Session() as sess:\n",
    "    #run initialization\n",
    "    sess.run(init)\n",
    "    #training for number of iterations\n",
    "    for i in range(num_steps):\n",
    "        #every iteration we run optimization on the training data X and labels Y\n",
    "        sess.run(train_op,feed_dict = {X:x_train_1,Y:y_train_1})\n",
    "        acc_1[i] = sess.run(accuracy, feed_dict = {X:x_train_1,Y:y_train_1})\n",
    "        if i % 10 == 0:\n",
    "            cost = sess.run(loss, feed_dict = {X:x_train_1,Y:y_train_1})\n",
    "            \n",
    "            print(\"step \"+str(i)+\", cost= {:.3f}\".format(cost))\n",
    "            print(\"step \"+str(i)+\", Accuracy= {:.9f}\".format(acc_1[i]))\n",
    "    #after training, we acquire the weight and bias\n",
    "    #np.squeeze plays a role to get rid of the redundant dimension [i.e.make (2,1) be (2,)]\n",
    "\n",
    "    print(\"Test Accuracy:\" + str(sess.run(accur, feed_dict = {A:x_test_1,B:y_test_1})))\n",
    "    W_1 = np.squeeze(sess.run(W))\n",
    "    b_1 = np.squeeze(sess.run(b))"
   ]
  },
  {
   "cell_type": "markdown",
   "metadata": {},
   "source": [
    "<h2>Plot</h2>"
   ]
  },
  {
   "cell_type": "code",
   "execution_count": 10,
   "metadata": {},
   "outputs": [
    {
     "data": {
      "image/png": "[encoded data removed]",
      "text/plain": [
       "<Figure size 432x288 with 1 Axes>"
      ]
     },
     "metadata": {
      "needs_background": "light"
     },
     "output_type": "display_data"
    },
    {
     "data": {
      "image/png": "[encoded data removed]",
      "text/plain": [
       "<Figure size 432x288 with 1 Axes>"
      ]
     },
     "metadata": {
      "needs_background": "light"
     },
     "output_type": "display_data"
    }
   ],
   "source": [
    "plt.plot(range(len(acc_1)),acc_1)\n",
    "plt.show()\n",
    "plot_x = np.array([np.min(x_test_1['petal_length'][:]), np.max(x_test_1['petal_width'][:])])\n",
    "plot_y = 1 / W_1[1] * (-W_1[0] * plot_x - b_1)\n",
    "plt.scatter(x_test_1['petal_length'][:], x_test_1['petal_width'][:], c=np.squeeze(y_test_1), s=100, cmap='viridis')\n",
    "plt.plot(plot_x, plot_y, color='k', linewidth=2)\n",
    "plt.xlim([np.min(x_test_1['petal_length'][:]) - 0.1,np.max(x_test_1['petal_length'][:]) + 0.1]);\n",
    "plt.ylim([np.min(x_test_1['petal_width'][:]) - 0.1,np.max(x_test_1['petal_width'][:]) + 0.1]);\n",
    "plt.show()"
   ]
  },
  {
   "cell_type": "markdown",
   "metadata": {},
   "source": [
    "The setosa can be separated linearly with other two species, or in other words the setosa is totally different with other\n",
    "two species in some way."
   ]
  },
  {
   "cell_type": "markdown",
   "metadata": {},
   "source": [
    "<h1>Part b:</h1>"
   ]
  },
  {
   "cell_type": "code",
   "execution_count": 11,
   "metadata": {},
   "outputs": [
    {
     "name": "stdout",
     "output_type": "stream",
     "text": [
      "Index(['petal_length', 'petal_width'], dtype='object')\n",
      "species\n"
     ]
    }
   ],
   "source": [
    "x_2,y_2 = data_preprocessing(dataset,2,flower='Iris-virginica')\n",
    "#generate traning and validation sets\n",
    "x_train_2, x_test_2, y_train_2, y_test_2 = train_test_split(x_2,y_2,test_size=0.3)"
   ]
  },
  {
   "cell_type": "markdown",
   "metadata": {},
   "source": [
    "<h2>Define hyper-parameter</h2>"
   ]
  },
  {
   "cell_type": "code",
   "execution_count": 12,
   "metadata": {},
   "outputs": [],
   "source": [
    "lr = 0.01\n",
    "num_steps = 200\n",
    "#n_hidden_1 = 64\n",
    "#n_hidden_2 = 32\n",
    "num_input = 105\n",
    "test_num = 45"
   ]
  },
  {
   "cell_type": "markdown",
   "metadata": {},
   "source": [
    "<h2>Define Placeholder and Variables</h2>"
   ]
  },
  {
   "cell_type": "code",
   "execution_count": 13,
   "metadata": {},
   "outputs": [],
   "source": [
    "tf.reset_default_graph()\n",
    "tf.reset_default_graph()\n",
    "X = tf.placeholder(tf.float32,shape=[num_input,2],name='X')\n",
    "Y = tf.placeholder(tf.float32,shape=[num_input,1],name='Y')\n",
    "A = tf.placeholder(tf.float32,shape=[test_num,2],name='A')\n",
    "B = tf.placeholder(tf.float32,shape=[test_num,1],name='B')\n",
    "W = tf.Variable(tf.random_normal([2,1]),tf.float32,name='W')\n",
    "#define the bias with zero initialization\n",
    "b = tf.Variable(tf.zeros([1,1]),tf.float32,name='b')"
   ]
  },
  {
   "cell_type": "markdown",
   "metadata": {},
   "source": [
    "<h2>Define update rule and accuracy</h2>"
   ]
  },
  {
   "cell_type": "code",
   "execution_count": 14,
   "metadata": {},
   "outputs": [],
   "source": [
    "Y_hat = tf.sigmoid(tf.add(tf.matmul(X,W),b))\n",
    "B_hat = tf.sigmoid(tf.add(tf.matmul(A,W),b))\n",
    "loss = tf.reduce_mean(tf.square(Y-Y_hat))\n",
    "optimizer = tf.train.AdamOptimizer(learning_rate = lr)\n",
    "train_op = optimizer.minimize(loss)\n",
    "#dW = tf.matmul(tf.transpose(X),loss)\n",
    "#db = tf.reduce_sum(loss,0)\n",
    "#W_ = W + lr*dW\n",
    "#b_ = b + lr*db\n",
    "correct_pred = tf.equal(tf.round(Y_hat),Y)\n",
    "correct_prediction = tf.equal(tf.round(B_hat),B)\n",
    "accuracy = tf.reduce_mean(tf.cast(correct_pred,tf.float32))\n",
    "accur = tf.reduce_mean(tf.cast(correct_prediction,tf.float32))\n",
    "#group two operations together\n",
    "#step = tf.group(W.assign(W_), b.assign(b_))"
   ]
  },
  {
   "cell_type": "markdown",
   "metadata": {},
   "source": [
    "<h2>Execute training</h2>"
   ]
  },
  {
   "cell_type": "code",
   "execution_count": 15,
   "metadata": {},
   "outputs": [
    {
     "name": "stdout",
     "output_type": "stream",
     "text": [
      "step 0, cost= 0.157\n",
      "step 0, Accuracy= 0.666666687\n",
      "step 10, cost= 0.146\n",
      "step 10, Accuracy= 0.704761922\n",
      "step 20, cost= 0.135\n",
      "step 20, Accuracy= 0.742857158\n",
      "step 30, cost= 0.126\n",
      "step 30, Accuracy= 0.771428585\n",
      "step 40, cost= 0.117\n",
      "step 40, Accuracy= 0.819047630\n",
      "step 50, cost= 0.110\n",
      "step 50, Accuracy= 0.847619057\n",
      "step 60, cost= 0.103\n",
      "step 60, Accuracy= 0.857142866\n",
      "step 70, cost= 0.097\n",
      "step 70, Accuracy= 0.885714293\n",
      "step 80, cost= 0.092\n",
      "step 80, Accuracy= 0.895238101\n",
      "step 90, cost= 0.088\n",
      "step 90, Accuracy= 0.933333337\n",
      "step 100, cost= 0.084\n",
      "step 100, Accuracy= 0.952380955\n",
      "step 110, cost= 0.080\n",
      "step 110, Accuracy= 0.952380955\n",
      "step 120, cost= 0.077\n",
      "step 120, Accuracy= 0.961904764\n",
      "step 130, cost= 0.074\n",
      "step 130, Accuracy= 0.952380955\n",
      "step 140, cost= 0.071\n",
      "step 140, Accuracy= 0.952380955\n",
      "step 150, cost= 0.069\n",
      "step 150, Accuracy= 0.961904764\n",
      "step 160, cost= 0.066\n",
      "step 160, Accuracy= 0.961904764\n",
      "step 170, cost= 0.064\n",
      "step 170, Accuracy= 0.961904764\n",
      "step 180, cost= 0.062\n",
      "step 180, Accuracy= 0.961904764\n",
      "step 190, cost= 0.061\n",
      "step 190, Accuracy= 0.961904764\n",
      "Test Accuracy:0.95555556\n"
     ]
    }
   ],
   "source": [
    "init = tf.global_variables_initializer()\n",
    "acc_2 = np.zeros(num_steps)\n",
    "with tf.Session() as sess:\n",
    "    #run initialization\n",
    "    sess.run(init)\n",
    "    #training for number of iterations\n",
    "    for i in range(num_steps):\n",
    "        #every iteration we run optimization on the training data X and labels Y\n",
    "        sess.run(train_op,feed_dict = {X:x_train_2,Y:y_train_2})\n",
    "        acc_2[i] = sess.run(accuracy, feed_dict = {X:x_train_2,Y:y_train_2})\n",
    "        if i % 10 == 0:\n",
    "            cost = sess.run(loss, feed_dict = {X:x_train_2,Y:y_train_2})\n",
    "            \n",
    "            print(\"step \"+str(i)+\", cost= {:.3f}\".format(cost))\n",
    "            print(\"step \"+str(i)+\", Accuracy= {:.9f}\".format(acc_2[i]))\n",
    "    #after training, we acquire the weight and bias\n",
    "    #np.squeeze plays a role to get rid of the redundant dimension [i.e.make (2,1) be (2,)]\n",
    "\n",
    "    print(\"Test Accuracy:\" + str(sess.run(accur, feed_dict = {A:x_test_2,B:y_test_2})))\n",
    "    W_2 = np.squeeze(sess.run(W))\n",
    "    b_2 = np.squeeze(sess.run(b))"
   ]
  },
  {
   "cell_type": "markdown",
   "metadata": {},
   "source": [
    "<h2>Plot</h2>"
   ]
  },
  {
   "cell_type": "code",
   "execution_count": 16,
   "metadata": {},
   "outputs": [
    {
     "data": {
      "image/png": "[encoded data removed]",
      "text/plain": [
       "<Figure size 432x288 with 1 Axes>"
      ]
     },
     "metadata": {
      "needs_background": "light"
     },
     "output_type": "display_data"
    },
    {
     "data": {
      "image/png": "[encoded data removed]",
      "text/plain": [
       "<Figure size 432x288 with 1 Axes>"
      ]
     },
     "metadata": {
      "needs_background": "light"
     },
     "output_type": "display_data"
    }
   ],
   "source": [
    "plt.plot(range(len(acc_2)),acc_2)\n",
    "plt.show()\n",
    "plot_x = np.array([np.min(x_test_2['petal_length'][:]), np.max(x_test_2['petal_width'][:])])\n",
    "plot_y = 1 / W_2[1] * (-W_2[0] * plot_x - b_2)\n",
    "plt.scatter(x_test_2['petal_length'][:], x_test_2['petal_width'][:], c=np.squeeze(y_test_2), s=100, cmap='viridis')\n",
    "plt.plot(plot_x, plot_y, color='k', linewidth=2)\n",
    "plt.xlim([np.min(x_test_2['petal_length'][:]) - 0.1,np.max(x_test_2['petal_length'][:]) + 0.1]);\n",
    "plt.ylim([np.min(x_test_2['petal_width'][:]) - 0.1,np.max(x_test_2['petal_width'][:]) + 0.1]);\n",
    "plt.show()"
   ]
  },
  {
   "cell_type": "markdown",
   "metadata": {},
   "source": [
    "The virginica cannot be separated linearly with the width and length of petal. In other words, we can not distinguish virginica \n",
    "with only the width and length of petal."
   ]
  },
  {
   "cell_type": "markdown",
   "metadata": {},
   "source": [
    "<h1>Part c:</h1>"
   ]
  },
  {
   "cell_type": "code",
   "execution_count": 17,
   "metadata": {},
   "outputs": [
    {
     "name": "stdout",
     "output_type": "stream",
     "text": [
      "Index(['sepal_length', 'sepal_width', 'petal_length', 'petal_width'], dtype='object')\n",
      "species\n"
     ]
    }
   ],
   "source": [
    "x_3,y_3 = data_preprocessing(dataset,4)\n",
    "#generate traning and validation sets\n",
    "x_train_3, x_test_3, y_train_3, y_test_3 = train_test_split(x_3,y_3,test_size=0.3)"
   ]
  },
  {
   "cell_type": "markdown",
   "metadata": {},
   "source": [
    "<h2>Define hyper-parameters</h2>"
   ]
  },
  {
   "cell_type": "code",
   "execution_count": 18,
   "metadata": {},
   "outputs": [],
   "source": [
    "#learning rate\n",
    "lr = 0.01\n",
    "#number of traning steps\n",
    "num_steps = 200\n",
    "\n",
    "#network parameters\n",
    "n_hidden_1 = 256\n",
    "n_hidden_2 = 128\n",
    "num_input = 105\n",
    "test_num = 45\n",
    "num_classes = 3"
   ]
  },
  {
   "cell_type": "markdown",
   "metadata": {},
   "source": [
    "<h2>Define placehoder and variables</h2>"
   ]
  },
  {
   "cell_type": "code",
   "execution_count": 19,
   "metadata": {},
   "outputs": [],
   "source": [
    "tf.reset_default_graph()\n",
    "\n",
    "X = tf.placeholder(tf.float32,shape=[None,4],name='X')\n",
    "Y = tf.placeholder(tf.float32,shape=[None,num_classes],name='Y')\n",
    "\n",
    "weights = {\n",
    "    'W1': tf.Variable(tf.random_normal([4, n_hidden_1]),name='W1'),\n",
    "    'W2': tf.Variable(tf.random_normal([n_hidden_1, n_hidden_2]),name='W2'),\n",
    "    'Wout': tf.Variable(tf.random_normal([n_hidden_2, num_classes]),name='Wout')\n",
    "}\n",
    "\n",
    "biases = {\n",
    "    'b1': tf.Variable(tf.zeros(shape=[n_hidden_1]),name='b1'),\n",
    "    'b2': tf.Variable(tf.zeros(shape=[n_hidden_2]),name='b2'),\n",
    "    'bout': tf.Variable(tf.zeros(shape=[num_classes]),name='bout')\n",
    "}"
   ]
  },
  {
   "cell_type": "markdown",
   "metadata": {},
   "source": [
    "<h2>Define the neural network</h2>"
   ]
  },
  {
   "cell_type": "code",
   "execution_count": 20,
   "metadata": {},
   "outputs": [],
   "source": [
    "def neural_net(x):\n",
    "    layer_1_out = tf.add(tf.matmul(x,weights['W1']),biases['b1'])\n",
    "    layer_1_out = tf.nn.relu(layer_1_out)\n",
    "    layer_2_out = tf.add(tf.matmul(layer_1_out,weights['W2']),biases['b2'])\n",
    "    layer_2_out = tf.nn.relu(layer_2_out)\n",
    "    out = tf.add(tf.matmul(layer_2_out,weights['Wout']),biases['bout'])\n",
    "    return out\n"
   ]
  },
  {
   "cell_type": "markdown",
   "metadata": {},
   "source": [
    "<h2>Define cost function and accuracy</h2>"
   ]
  },
  {
   "cell_type": "code",
   "execution_count": 21,
   "metadata": {},
   "outputs": [],
   "source": [
    "logits = neural_net(X)\n",
    "\n",
    "#define loss\n",
    "loss = tf.reduce_mean(tf.nn.softmax_cross_entropy_with_logits_v2(logits=logits,labels=Y),name='loss')\n",
    "#define optimizer\n",
    "optimizer = tf.train.GradientDescentOptimizer(learning_rate=lr)\n",
    "train_op = optimizer.minimize(loss)\n",
    "\n",
    "#compare the predicted labels with true labels\n",
    "correct_pred = tf.equal(tf.argmax(logits,1),tf.argmax(Y,1))\n",
    "\n",
    "#compute the accuracy by taking average\n",
    "accuracy = tf.reduce_mean(tf.cast(correct_pred,tf.float32),name='accuracy')\n",
    "\n",
    "#Initialize the variables\n",
    "init = tf.global_variables_initializer()\n",
    "\n"
   ]
  },
  {
   "cell_type": "markdown",
   "metadata": {},
   "source": [
    "<h2>Execute training</h2>"
   ]
  },
  {
   "cell_type": "code",
   "execution_count": 22,
   "metadata": {
    "scrolled": false
   },
   "outputs": [
    {
     "name": "stdout",
     "output_type": "stream",
     "text": [
      "step 0, cost= 8.855\n",
      "step 0, Accuracy= 0.704761922\n",
      "step 10, cost= 0.824\n",
      "step 10, Accuracy= 0.961904764\n",
      "step 20, cost= 0.191\n",
      "step 20, Accuracy= 0.980952382\n",
      "step 30, cost= 0.000\n",
      "step 30, Accuracy= 1.000000000\n",
      "step 40, cost= 0.000\n",
      "step 40, Accuracy= 1.000000000\n",
      "step 50, cost= 0.000\n",
      "step 50, Accuracy= 1.000000000\n",
      "step 60, cost= 0.000\n",
      "step 60, Accuracy= 1.000000000\n",
      "step 70, cost= 0.000\n",
      "step 70, Accuracy= 1.000000000\n",
      "step 80, cost= 0.000\n",
      "step 80, Accuracy= 1.000000000\n",
      "step 90, cost= 0.000\n",
      "step 90, Accuracy= 1.000000000\n",
      "step 100, cost= 0.000\n",
      "step 100, Accuracy= 1.000000000\n",
      "step 110, cost= 0.000\n",
      "step 110, Accuracy= 1.000000000\n",
      "step 120, cost= 0.000\n",
      "step 120, Accuracy= 1.000000000\n",
      "step 130, cost= 0.000\n",
      "step 130, Accuracy= 1.000000000\n",
      "step 140, cost= 0.000\n",
      "step 140, Accuracy= 1.000000000\n",
      "step 150, cost= 0.000\n",
      "step 150, Accuracy= 1.000000000\n",
      "step 160, cost= 0.000\n",
      "step 160, Accuracy= 1.000000000\n",
      "step 170, cost= 0.000\n",
      "step 170, Accuracy= 1.000000000\n",
      "step 180, cost= 0.000\n",
      "step 180, Accuracy= 1.000000000\n",
      "step 190, cost= 0.000\n",
      "step 190, Accuracy= 1.000000000\n",
      "Test Accuracy:0.9111111\n"
     ]
    }
   ],
   "source": [
    "acc_3 = np.zeros(num_steps)\n",
    "with tf.Session() as sess:\n",
    "    #run initialization\n",
    "    sess.run(init)\n",
    "    #training for number of iterations\n",
    "    for i in range(num_steps):\n",
    "        #every iteration we run optimization on the training data X and labels Y\n",
    "        sess.run(train_op,feed_dict = {X:x_train_3,Y:y_train_3})\n",
    "        acc_3[i] = sess.run(accuracy, feed_dict = {X:x_train_3,Y:y_train_3})\n",
    "        if i % 10 == 0:\n",
    "            cost = sess.run(loss, feed_dict = {X:x_train_3,Y:y_train_3})\n",
    "            \n",
    "            print(\"step \"+str(i)+\", cost= {:.3f}\".format(cost))\n",
    "            print(\"step \"+str(i)+\", Accuracy= {:.9f}\".format(acc_3[i]))\n",
    "    #after training, we acquire the weight and bias\n",
    "    #np.squeeze plays a role to get rid of the redundant dimension [i.e.make (2,1) be (2,)]\n",
    "\n",
    "    print(\"Test Accuracy:\" + str(sess.run(accuracy, feed_dict = {X:x_test_3,Y:y_test_3})))"
   ]
  },
  {
   "cell_type": "markdown",
   "metadata": {},
   "source": [
    "<h2>Plot</h2>"
   ]
  },
  {
   "cell_type": "code",
   "execution_count": 23,
   "metadata": {},
   "outputs": [
    {
     "data": {
      "image/png": "[encoded data removed]",
      "text/plain": [
       "<Figure size 432x288 with 1 Axes>"
      ]
     },
     "metadata": {
      "needs_background": "light"
     },
     "output_type": "display_data"
    }
   ],
   "source": [
    "plt.plot(range(len(acc_3)),acc_3)\n",
    "plt.show()"
   ]
  },
  {
   "cell_type": "code",
   "execution_count": null,
   "metadata": {},
   "outputs": [],
   "source": []
  }
 ],
 "metadata": {
  "kernelspec": {
   "display_name": "Python 3",
   "language": "python",
   "name": "python3"
  },
  "language_info": {
   "codemirror_mode": {
    "name": "ipython",
    "version": 3
   },
   "file_extension": ".py",
   "mimetype": "text/x-python",
   "name": "python",
   "nbconvert_exporter": "python",
   "pygments_lexer": "ipython3",
   "version": "3.7.3"
  }
 },
 "nbformat": 4,
 "nbformat_minor": 2
}
