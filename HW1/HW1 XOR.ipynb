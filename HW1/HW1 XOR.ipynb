{
 "cells": [
  {
   "cell_type": "code",
   "execution_count": 1,
   "metadata": {},
   "outputs": [],
   "source": [
    "import tensorflow as tf\n",
    "import numpy as np\n",
    "import matplotlib.pyplot as plt"
   ]
  },
  {
   "cell_type": "code",
   "execution_count": 2,
   "metadata": {},
   "outputs": [],
   "source": [
    "\n",
    "lr = 0.1\n",
    "num_steps = 10000\n",
    "n_hidden_1 = 2\n",
    "\n"
   ]
  },
  {
   "cell_type": "code",
   "execution_count": 3,
   "metadata": {},
   "outputs": [],
   "source": [
    "x = np.array([[0,0],[1,0],[1,1],[0,1]],np.float32)\n",
    "y = np.array([0,1,0,1], np.float32)\n",
    "y = np.reshape(y,[4,1])\n"
   ]
  },
  {
   "cell_type": "code",
   "execution_count": 4,
   "metadata": {},
   "outputs": [],
   "source": [
    "tf.reset_default_graph()"
   ]
  },
  {
   "cell_type": "code",
   "execution_count": 5,
   "metadata": {},
   "outputs": [],
   "source": [
    "X = tf.placeholder(tf.float32,shape=[4,2],name='X')\n",
    "Y = tf.placeholder(tf.float32,shape=[4,1],name='Y')"
   ]
  },
  {
   "cell_type": "code",
   "execution_count": 6,
   "metadata": {},
   "outputs": [
    {
     "name": "stdout",
     "output_type": "stream",
     "text": [
      "WARNING:tensorflow:From f:\\anaconda\\envs\\envname\\lib\\site-packages\\tensorflow\\python\\framework\\op_def_library.py:263: colocate_with (from tensorflow.python.framework.ops) is deprecated and will be removed in a future version.\n",
      "Instructions for updating:\n",
      "Colocations handled automatically by placer.\n"
     ]
    }
   ],
   "source": [
    "weights = {\n",
    "    'W1': tf.Variable(tf.random_normal([2,n_hidden_1]),name='W1'),\n",
    "    'W2': tf.Variable(tf.random_normal([n_hidden_1,1]),name='W2'),\n",
    "    \n",
    "}\n",
    "#define the bias with zero initialization\n",
    "biases = {\n",
    "    'b1': tf.Variable(tf.zeros(shape=[n_hidden_1]),name='b1'),\n",
    "    'b2': tf.Variable(tf.zeros(shape=[1]),name='b2'),\n",
    "    \n",
    "}"
   ]
  },
  {
   "cell_type": "code",
   "execution_count": 7,
   "metadata": {},
   "outputs": [],
   "source": [
    "def neural_net(z):\n",
    "    layer_1_out = tf.add(tf.matmul(z,weights['W1']), biases['b1'])\n",
    "    layer_1_out = tf.nn.sigmoid(layer_1_out)\n",
    "    out = tf.add(tf.matmul(layer_1_out,weights['W2']), biases['b2'])\n",
    "    #out = tf.nn.sigmoid(out)\n",
    "    return out"
   ]
  },
  {
   "cell_type": "code",
   "execution_count": 8,
   "metadata": {},
   "outputs": [],
   "source": [
    "logits = neural_net(X)\n",
    "loss = tf.reduce_mean(tf.nn.sigmoid_cross_entropy_with_logits(logits=logits,labels=Y),name='loss')\n",
    "optimizer = tf.train.GradientDescentOptimizer(learning_rate=lr)\n",
    "train_op = optimizer.minimize(loss)\n",
    "logits = tf.round(tf.nn.sigmoid(logits))\n",
    "correct_pred = tf.equal(logits,Y)\n",
    "accuracy = tf.reduce_mean(tf.cast(correct_pred,tf.float32), name = 'accuracy')\n",
    "init = tf.global_variables_initializer()"
   ]
  },
  {
   "cell_type": "code",
   "execution_count": 9,
   "metadata": {},
   "outputs": [
    {
     "name": "stdout",
     "output_type": "stream",
     "text": [
      "step 0,Accuracy= 0.500\n",
      "cost= 1.021490693\n",
      "step 1000,Accuracy= 0.750\n",
      "cost= 0.670848608\n",
      "step 2000,Accuracy= 1.000\n",
      "cost= 0.469832689\n",
      "step 3000,Accuracy= 1.000\n",
      "cost= 0.170016199\n",
      "step 4000,Accuracy= 1.000\n",
      "cost= 0.075584590\n",
      "step 5000,Accuracy= 1.000\n",
      "cost= 0.045631349\n",
      "step 6000,Accuracy= 1.000\n",
      "cost= 0.032078177\n",
      "step 7000,Accuracy= 1.000\n",
      "cost= 0.024539052\n",
      "step 8000,Accuracy= 1.000\n",
      "cost= 0.019788958\n",
      "step 9000,Accuracy= 1.000\n",
      "cost= 0.016540248\n",
      "Training finished!\n",
      "input:\n",
      "[[0. 0.]\n",
      " [1. 0.]\n",
      " [1. 1.]\n",
      " [0. 1.]]\n",
      "output:\n",
      "[[0.]\n",
      " [1.]\n",
      " [0.]\n",
      " [1.]]\n"
     ]
    }
   ],
   "source": [
    "acc = np.zeros(num_steps)\n",
    "with tf.Session() as sess:\n",
    "    sess.run(init)\n",
    "    \n",
    "    for i in range(num_steps):\n",
    "        #fetch batch\n",
    "        #batch_x = tf.reshape(x,shape = [-1,2])\n",
    "        #batch_x = x\n",
    "        #print(batch_x)\n",
    "        #batch_y = tf.reshape(y,shape = [-1,1])\n",
    "        #batch_y = y\n",
    "        #print(batch_y)\n",
    "        #run optimization  \n",
    "        sess.run(train_op,feed_dict={X:x,Y:y})\n",
    "        #acc = sess.run(accuracy,feed_dict={X:sess.run(batch_x),Y:sess.run(batch_y)})\n",
    "        cost = sess.run(loss,feed_dict = {X:x,Y:y})\n",
    "        acc[i] = sess.run(accuracy, feed_dict = {X:x,Y:y})\n",
    "        if i % 1000 ==0:\n",
    "            #print(sess.run(correct_pred, feed_dict = {X:x,Y:y}))\n",
    "            #acc = sess.run(accuracy,feed_dict={X:x,Y:y})\n",
    "            print(\"step \"+str(i)+\",Accuracy= {:.3f}\".format(acc[i]))\n",
    "            print(\"cost= {:.9f}\".format(cost))\n",
    "\n",
    "    print(\"Training finished!\")\n",
    "    result = sess.run(logits, feed_dict = {X:x})\n",
    "    print(\"input:\")\n",
    "    print(x)\n",
    "    print(\"output:\")\n",
    "    print(result)\n",
    "    W = np.squeeze(sess.run(weights['W1']))\n",
    "    b = np.squeeze(sess.run(biases['b1']))"
   ]
  },
  {
   "cell_type": "code",
   "execution_count": 11,
   "metadata": {
    "scrolled": true
   },
   "outputs": [
    {
     "data": {
      "image/png": "[encoded data removed]",
      "text/plain": [
       "<Figure size 432x288 with 1 Axes>"
      ]
     },
     "metadata": {
      "needs_background": "light"
     },
     "output_type": "display_data"
    }
   ],
   "source": [
    "plot_x = np.array([np.min(x[:, 0] - 0.2), np.max(x[:, 1]+0.2)])\n",
    "plot_y_1 = 1 / W[1][0] * (-W[0][0] * plot_x - b[0])\n",
    "plot_y_2 = 1 / W[1][1] * (-W[0][1] * plot_x - b[1])\n",
    "plt.scatter(x[:, 0], x[:, 1], c=np.squeeze(y), s=100, cmap='viridis')\n",
    "plt.plot(plot_x, plot_y_1, color='k', linewidth=2)\n",
    "plt.plot(plot_x, plot_y_2, color='k', linewidth=2)\n",
    "plt.xlim([-0.2, 1.2]); plt.ylim([-0.2, 1.25]);\n",
    "plt.show()"
   ]
  },
  {
   "cell_type": "code",
   "execution_count": 13,
   "metadata": {},
   "outputs": [
    {
     "data": {
      "image/png": "[encoded data removed]",
      "text/plain": [
       "<Figure size 432x288 with 1 Axes>"
      ]
     },
     "metadata": {
      "needs_background": "light"
     },
     "output_type": "display_data"
    }
   ],
   "source": [
    "plt.plot(range(len(acc)),acc)\n",
    "plt.show()"
   ]
  },
  {
   "cell_type": "code",
   "execution_count": null,
   "metadata": {},
   "outputs": [],
   "source": []
  },
  {
   "cell_type": "code",
   "execution_count": null,
   "metadata": {},
   "outputs": [],
   "source": []
  },
  {
   "cell_type": "code",
   "execution_count": null,
   "metadata": {},
   "outputs": [],
   "source": []
  }
 ],
 "metadata": {
  "kernelspec": {
   "display_name": "Python 3",
   "language": "python",
   "name": "python3"
  },
  "language_info": {
   "codemirror_mode": {
    "name": "ipython",
    "version": 3
   },
   "file_extension": ".py",
   "mimetype": "text/x-python",
   "name": "python",
   "nbconvert_exporter": "python",
   "pygments_lexer": "ipython3",
   "version": "3.7.3"
  }
 },
 "nbformat": 4,
 "nbformat_minor": 2
}
