{
 "cells": [
  {
   "cell_type": "code",
   "execution_count": 1,
   "metadata": {},
   "outputs": [
    {
     "name": "stdout",
     "output_type": "stream",
     "text": [
      "Extracting MNIST_data/train-images-idx3-ubyte.gz\n",
      "Extracting MNIST_data/train-labels-idx1-ubyte.gz\n",
      "Extracting MNIST_data/t10k-images-idx3-ubyte.gz\n",
      "Extracting MNIST_data/t10k-labels-idx1-ubyte.gz\n"
     ]
    }
   ],
   "source": [
    "import numpy as np\n",
    "import tensorflow as tf\n",
    "from tensorflow.examples.tutorials.mnist import input_data\n",
    "import matplotlib.pyplot as plt\n",
    "import time\n",
    "old_v = tf.logging.get_verbosity()\n",
    "tf.logging.set_verbosity(tf.logging.ERROR)\n",
    "mnist = input_data.read_data_sets(\"MNIST_data/\",one_hot=True)"
   ]
  },
  {
   "cell_type": "code",
   "execution_count": 2,
   "metadata": {},
   "outputs": [],
   "source": [
    "def softmax(z):\n",
    "    return np.exp(z) / np.sum(np.exp(z))\n",
    "\n",
    "def relu(z):\n",
    "    return np.maximum(z, 0)\n",
    "\n",
    "def cross_entropy(predictions, targets, epsilon=1e-20):\n",
    "    predictions = np.clip(predictions, epsilon, 1. - epsilon)\n",
    "    crossEntropy = -np.sum(targets*np.log(predictions))\n",
    "    return crossEntropy"
   ]
  },
  {
   "cell_type": "code",
   "execution_count": 3,
   "metadata": {},
   "outputs": [],
   "source": [
    "epochs = 3\n",
    "batch_size = 16\n",
    "hidden = 128\n",
    "nn_input = 784\n",
    "output = 10\n",
    "lr = 0.01\n",
    "total_batch = int(mnist.train.num_examples/batch_size)\n",
    "iterations = epochs * total_batch"
   ]
  },
  {
   "cell_type": "code",
   "execution_count": 4,
   "metadata": {},
   "outputs": [],
   "source": [
    "def scratchNN(batch_size, iterations):\n",
    "    a = 0\n",
    "    w1 = np.random.normal(0, 0.1 ,(hidden, nn_input))\n",
    "    b1 = np.random.normal(0, 0.1 ,(hidden))\n",
    "    w2 = np.random.normal(0, 0.1 ,(output, hidden))\n",
    "    b2 = np.random.normal(0, 0.1 ,(output))\n",
    "    \n",
    "    w2_track = np.zeros(iterations)\n",
    "    b2_track = np.zeros(iterations)\n",
    "    w1_track = np.zeros(iterations)\n",
    "    b1_track = np.zeros(iterations)\n",
    "    loss_track = np.zeros(iterations)\n",
    "    loss_plot = np.zeros(round(iterations/total_batch)+1)\n",
    "    acc_track = np.zeros(iterations)\n",
    "    ts = time.time()\n",
    "    for i in range(iterations):    \n",
    "        #st = time.time()\n",
    "        cost = 0 \n",
    "        bw2 = 0\n",
    "        bb2 = 0\n",
    "        bw1 = 0 \n",
    "        bb1 = 0 \n",
    "        acc = 0 \n",
    "    # for each sample \n",
    "        x_batch, y_batch = mnist.train.next_batch(batch_size)\n",
    "\n",
    "        for n in range(batch_size):\n",
    "            x = x_batch[n]\n",
    "            y = y_batch[n]\n",
    "\n",
    "            l1 = np.dot(w1,x) + b1\n",
    "            a1 = relu(l1)\n",
    "            l2 = np.matmul(w2, a1) + b2\n",
    "           #print(l2.shape)\n",
    "            a2 = softmax(l2)\n",
    "            \n",
    "            #print(a2.shape)\n",
    "            #print(y.shape)\n",
    "            loss = cross_entropy(a2, y)\n",
    "\n",
    "            acc += 1.0*( np.argmax(a2) == np.argmax(y) )\n",
    "\n",
    "            # backward propagation \n",
    "            bw2 += (a2 - y).reshape(output,1).dot( a1.reshape(1, hidden))\n",
    "            bb2 += (a2 - y)\n",
    "\n",
    "            bb1 +=  (a2 - y).dot(w2).dot(np.diag(np.sign(a1)))\n",
    "            bw1 += bb1.reshape(hidden,1).dot(x.reshape(1, nn_input))\n",
    "            \n",
    "        bw2 = bw2/batch_size \n",
    "        bb2 = bb2/batch_size \n",
    "        bb1 = bb1/batch_size \n",
    "        bw1 = bw1/batch_size \n",
    "        loss = loss/batch_size\n",
    "        acc  = acc/batch_size\n",
    "\n",
    "        w1_track[i] =  np.abs(bw1).sum()  \n",
    "        b1_track[i] =  np.abs(bb1).sum()  \n",
    "        w2_track[i] =  np.abs(bw2).sum()  \n",
    "        b2_track[i] =  np.abs(bb2).sum()  \n",
    "        loss_track[i] = loss\n",
    "        acc_track[i] = acc\n",
    "\n",
    "       # update parameter     \n",
    "        w2 -= lr*bw2\n",
    "        b2 -= lr*bb2\n",
    "        w1 -= lr*bw1\n",
    "        b1 -= lr*bb1\n",
    "    \n",
    "        if i%total_batch == 0:\n",
    "            loss_plot[a] = loss\n",
    "            print(\"Epoch \" + str(a) + \", Validation Accuracy:{:.4f}\".format(acc)+ \", Loss: {:.4f}\\t\".format(loss))\n",
    "            a = a + 1\n",
    "    te = time.time()\n",
    "    print('Time Cost:{:.3f}s'.format(te-ts))\n",
    "     \n",
    "    plt.plot(loss_plot)\n",
    "    plt.title('loss batch size:'+ str(batch_size) )\n",
    "    x_test = mnist.test.images\n",
    "    y_test = mnist.test.labels\n",
    "    num_test = mnist.test.num_examples #10,000\n",
    "    loss = 0\n",
    "    acc = 0 \n",
    "\n",
    "    for n in range(10000):\n",
    "        x = x_test[n]\n",
    "        y = y_test[n]\n",
    "        # feed forward \n",
    "        l1 = np.dot(w1,x) + b1\n",
    "        a1 = relu(l1)\n",
    "        l2 = np.matmul(w2, a1) + b2\n",
    "        a2 = softmax(l2)\n",
    "        loss = cross_entropy(a2, y)\n",
    "        acc += 1.0*(np.argmax(a2) == np.argmax(y))\n",
    "\n",
    "    loss = loss/10000\n",
    "    acc  = acc/10000\n",
    "    print(\"Test Accuracy:{:.4f}\".format(acc)+ \", Cost: {:.4f}\\t\".format(loss))"
   ]
  },
  {
   "cell_type": "markdown",
   "metadata": {},
   "source": [
    "<h>Batch Size: 16</h>"
   ]
  },
  {
   "cell_type": "code",
   "execution_count": 5,
   "metadata": {},
   "outputs": [
    {
     "name": "stdout",
     "output_type": "stream",
     "text": [
      "Epoch 0, Validation Accuracy:0.1250, Loss: 0.1447\t\n",
      "Epoch 1, Validation Accuracy:0.9375, Loss: 0.0146\t\n",
      "Epoch 2, Validation Accuracy:1.0000, Loss: 0.0010\t\n",
      "Time Cost:29.083s\n",
      "Test Accuracy:0.9254, Cost: 0.0000\t\n"
     ]
    },
    {
     "data": {
      "image/png": "[encoded data removed]",
      "text/plain": [
       "<Figure size 432x288 with 1 Axes>"
      ]
     },
     "metadata": {
      "needs_background": "light"
     },
     "output_type": "display_data"
    }
   ],
   "source": [
    "scratchNN(16,iterations)"
   ]
  },
  {
   "cell_type": "markdown",
   "metadata": {},
   "source": [
    "<h>Batch Size: 64</h>"
   ]
  },
  {
   "cell_type": "code",
   "execution_count": 6,
   "metadata": {},
   "outputs": [],
   "source": [
    "epochs = 3\n",
    "batch_size = 64\n",
    "hidden = 128\n",
    "nn_input = 784\n",
    "output = 10\n",
    "lr = 0.01\n",
    "total_batch = int(mnist.train.num_examples/batch_size)\n",
    "iterations = epochs * total_batch"
   ]
  },
  {
   "cell_type": "code",
   "execution_count": 7,
   "metadata": {},
   "outputs": [
    {
     "name": "stdout",
     "output_type": "stream",
     "text": [
      "Epoch 0, Validation Accuracy:0.0469, Loss: 0.0359\t\n",
      "Epoch 1, Validation Accuracy:0.8281, Loss: 0.0006\t\n",
      "Epoch 2, Validation Accuracy:0.8438, Loss: 0.0018\t\n",
      "Time Cost:27.669s\n",
      "Test Accuracy:0.8546, Cost: 0.0000\t\n"
     ]
    },
    {
     "data": {
      "image/png": "[encoded data removed]",
      "text/plain": [
       "<Figure size 432x288 with 1 Axes>"
      ]
     },
     "metadata": {
      "needs_background": "light"
     },
     "output_type": "display_data"
    }
   ],
   "source": [
    "scratchNN(64, iterations)"
   ]
  },
  {
   "cell_type": "markdown",
   "metadata": {},
   "source": [
    "<h>Batch Size: 256</h>"
   ]
  },
  {
   "cell_type": "code",
   "execution_count": 8,
   "metadata": {},
   "outputs": [],
   "source": [
    "epochs = 3\n",
    "batch_size = 256\n",
    "hidden = 128\n",
    "nn_input = 784\n",
    "output = 10\n",
    "lr = 0.01\n",
    "total_batch = int(mnist.train.num_examples/batch_size)\n",
    "iterations = epochs * total_batch"
   ]
  },
  {
   "cell_type": "code",
   "execution_count": 9,
   "metadata": {},
   "outputs": [
    {
     "name": "stdout",
     "output_type": "stream",
     "text": [
      "Epoch 0, Validation Accuracy:0.0977, Loss: 0.0132\t\n",
      "Epoch 1, Validation Accuracy:0.5391, Loss: 0.0081\t\n",
      "Epoch 2, Validation Accuracy:0.7070, Loss: 0.0002\t\n",
      "Time Cost:27.145s\n",
      "Test Accuracy:0.7446, Cost: 0.0000\t\n"
     ]
    },
    {
     "data": {
      "image/png": "[encoded data removed]",
      "text/plain": [
       "<Figure size 432x288 with 1 Axes>"
      ]
     },
     "metadata": {
      "needs_background": "light"
     },
     "output_type": "display_data"
    }
   ],
   "source": [
    "scratchNN(256,iterations)"
   ]
  },
  {
   "cell_type": "markdown",
   "metadata": {},
   "source": [
    "<h>Batch Size: 1024</h>"
   ]
  },
  {
   "cell_type": "code",
   "execution_count": 10,
   "metadata": {},
   "outputs": [],
   "source": [
    "epochs = 3\n",
    "batch_size = 1024\n",
    "hidden = 128\n",
    "nn_input = 784\n",
    "output = 10\n",
    "lr = 0.01\n",
    "total_batch = int(mnist.train.num_examples/batch_size)\n",
    "iterations = epochs * total_batch"
   ]
  },
  {
   "cell_type": "code",
   "execution_count": 11,
   "metadata": {},
   "outputs": [
    {
     "name": "stdout",
     "output_type": "stream",
     "text": [
      "Epoch 0, Validation Accuracy:0.0830, Loss: 0.0029\t\n",
      "Epoch 1, Validation Accuracy:0.1523, Loss: 0.0021\t\n",
      "Epoch 2, Validation Accuracy:0.2344, Loss: 0.0022\t\n",
      "Time Cost:26.768s\n",
      "Test Accuracy:0.1334, Cost: 0.0002\t\n"
     ]
    },
    {
     "data": {
      "image/png": "[encoded data removed]",
      "text/plain": [
       "<Figure size 432x288 with 1 Axes>"
      ]
     },
     "metadata": {
      "needs_background": "light"
     },
     "output_type": "display_data"
    }
   ],
   "source": [
    "scratchNN(1024,iterations)"
   ]
  },
  {
   "cell_type": "markdown",
   "metadata": {},
   "source": [
    "<h1>Part G:  Implement NN in Tensorflow</h1>"
   ]
  },
  {
   "cell_type": "markdown",
   "metadata": {},
   "source": [
    "<h>Batch Size: 16</h>"
   ]
  },
  {
   "cell_type": "code",
   "execution_count": 5,
   "metadata": {},
   "outputs": [
    {
     "name": "stdout",
     "output_type": "stream",
     "text": [
      "Epoch 1.0\tCost: 2.390\t, Accuracy= 0.062\n",
      "Epoch 2.0\tCost: 0.376\t, Accuracy= 0.938\n",
      "Epoch 3.0\tCost: 0.024\t, Accuracy= 1.000\n",
      "Time Cost:9.566s\n",
      "Testing ACcuracy: 0.9381\n"
     ]
    }
   ],
   "source": [
    "#learning rate\n",
    "lr = 0.01\n",
    "#number of traning epochs\n",
    "epochs = 3\n",
    "#number of batch_size\n",
    "batch_size = 16\n",
    "total_batch = int(mnist.train.num_examples/batch_size)\n",
    "num_steps = epochs * total_batch\n",
    "\n",
    "#network parameters\n",
    "n_hidden_1 = 128\n",
    "# n_hidden_2 = 200\n",
    "num_input = 784\n",
    "num_classes = 10\n",
    "\n",
    "tf.reset_default_graph()\n",
    "#tf graph input\n",
    "X = tf.placeholder(tf.float32,[None,num_input],name='X')\n",
    "Y = tf.placeholder(tf.int32,[None,num_classes],name='Y')\n",
    "\n",
    "#Layers weight & bias\n",
    "weights = {\n",
    "    'W1': tf.Variable(tf.random_normal([num_input, n_hidden_1],stddev=0.1),name='W1'),\n",
    "    'Wout': tf.Variable(tf.random_normal([n_hidden_1, num_classes],stddev=0.1),name='Wout')\n",
    "}\n",
    "\n",
    "biases = {\n",
    "    'b1': tf.Variable(tf.zeros(shape=[n_hidden_1]),name='b1'),\n",
    "    'bout': tf.Variable(tf.zeros(shape=[num_classes]),name='bout')\n",
    "}\n",
    "\n",
    "#define a neural net model\n",
    "def neural_net(x):\n",
    "    layer_1_out = tf.nn.relu(tf.add(tf.matmul(x,weights['W1']),biases['b1']))\n",
    "    out = tf.add(tf.matmul(layer_1_out,weights['Wout']),biases['bout'])\n",
    "    return out\n",
    "\n",
    "#predicted labels\n",
    "logits = neural_net(X)\n",
    "Y_hat = tf.nn.softmax(logits)\n",
    "\n",
    "#define cost\n",
    "cost = tf.reduce_mean(tf.nn.softmax_cross_entropy_with_logits_v2(logits=logits,labels=Y),name='cost')\n",
    "#define optimizer\n",
    "optimizer = tf.train.GradientDescentOptimizer(learning_rate=lr)\n",
    "train_op = optimizer.minimize(cost)\n",
    "\n",
    "#compare the predicted labels with true labels\n",
    "correct_pred = tf.equal(tf.argmax(Y_hat,1),tf.argmax(Y,1))\n",
    "\n",
    "#compute the accuracy by taking average\n",
    "accuracy = tf.reduce_mean(tf.cast(correct_pred,tf.float32),name='accuracy')\n",
    "\n",
    "#Initialize the variables\n",
    "init = tf.global_variables_initializer()\n",
    "\n",
    "with tf.Session() as sess:\n",
    "    sess.run(init)\n",
    "    ts = time.time()\n",
    "    for i in range(num_steps):\n",
    "        # fetch batch\n",
    "        batch_x, batch_y = mnist.train.next_batch(batch_size)\n",
    "        # run optimization\n",
    "        _, loss = sess.run([train_op, cost], feed_dict={X: batch_x, Y: batch_y})\n",
    "        if i % total_batch == 0:\n",
    "            \n",
    "            acc = sess.run(accuracy, feed_dict={X: batch_x, Y: batch_y})\n",
    "            print(\"Epoch \" + str(i/total_batch+1) +\"\\tCost: {:.3f}\\t\".format(loss)+\", Accuracy= {:.3f}\".format(acc))\n",
    "    te = time.time()\n",
    "    print('Time Cost:{:.3f}s'.format(te-ts))\n",
    "    print(\"Testing ACcuracy:\", sess.run(accuracy, feed_dict={X: mnist.test.images, Y: mnist.test.labels}))"
   ]
  },
  {
   "cell_type": "markdown",
   "metadata": {},
   "source": [
    "<h>Batch Size: 64</h>"
   ]
  },
  {
   "cell_type": "code",
   "execution_count": 3,
   "metadata": {},
   "outputs": [
    {
     "name": "stdout",
     "output_type": "stream",
     "text": [
      "Epoch 1.0\tCost: 2.399\t, Accuracy= 0.109\n",
      "Epoch 2.0\tCost: 0.521\t, Accuracy= 0.859\n",
      "Epoch 3.0\tCost: 0.515\t, Accuracy= 0.891\n",
      "Time Cost:3.008s\n",
      "Testing ACcuracy: 0.9069\n"
     ]
    }
   ],
   "source": [
    "#learning rate\n",
    "lr = 0.01\n",
    "#number of traning epochs\n",
    "epochs = 3\n",
    "#number of batch_size\n",
    "batch_size = 64\n",
    "total_batch = int(mnist.train.num_examples/batch_size)\n",
    "num_steps = epochs * total_batch\n",
    "\n",
    "#network parameters\n",
    "n_hidden_1 = 128\n",
    "num_input = 784\n",
    "num_classes = 10\n",
    "\n",
    "tf.reset_default_graph()\n",
    "#tf graph input\n",
    "X = tf.placeholder(tf.float32,[None,num_input],name='X')\n",
    "Y = tf.placeholder(tf.int32,[None,num_classes],name='Y')\n",
    "\n",
    "#Layers weight & bias\n",
    "weights = {\n",
    "    'W1': tf.Variable(tf.random_normal([num_input, n_hidden_1],stddev=0.1),name='W1'),\n",
    "    'Wout': tf.Variable(tf.random_normal([n_hidden_1, num_classes],stddev=0.1),name='Wout')\n",
    "}\n",
    "\n",
    "biases = {\n",
    "    'b1': tf.Variable(tf.zeros(shape=[n_hidden_1]),name='b1'),\n",
    "    'bout': tf.Variable(tf.zeros(shape=[num_classes]),name='bout')\n",
    "}\n",
    "\n",
    "#define a neural net model\n",
    "def neural_net(x):\n",
    "    layer_1_out = tf.nn.relu(tf.add(tf.matmul(x,weights['W1']),biases['b1']))\n",
    "    out = tf.add(tf.matmul(layer_1_out,weights['Wout']),biases['bout'])\n",
    "    return out\n",
    "\n",
    "#predicted labels\n",
    "logits = neural_net(X)\n",
    "Y_hat = tf.nn.softmax(logits)\n",
    "\n",
    "#define cost\n",
    "cost = tf.reduce_mean(tf.nn.softmax_cross_entropy_with_logits_v2(logits=logits,labels=Y),name='cost')\n",
    "#define optimizer\n",
    "optimizer = tf.train.GradientDescentOptimizer(learning_rate=lr)\n",
    "train_op = optimizer.minimize(cost)\n",
    "\n",
    "#compare the predicted labels with true labels\n",
    "correct_pred = tf.equal(tf.argmax(Y_hat,1),tf.argmax(Y,1))\n",
    "\n",
    "#compute the accuracy by taking average\n",
    "accuracy = tf.reduce_mean(tf.cast(correct_pred,tf.float32),name='accuracy')\n",
    "\n",
    "#Initialize the variables\n",
    "init = tf.global_variables_initializer()\n",
    "\n",
    "with tf.Session() as sess:\n",
    "    sess.run(init)\n",
    "    ts = time.time()\n",
    "    for i in range(num_steps):\n",
    "        # fetch batch\n",
    "        batch_x, batch_y = mnist.train.next_batch(batch_size)\n",
    "        # run optimization\n",
    "        _, loss = sess.run([train_op, cost], feed_dict={X: batch_x, Y: batch_y})\n",
    "        if i % total_batch == 0:\n",
    "            \n",
    "            acc = sess.run(accuracy, feed_dict={X: batch_x, Y: batch_y})\n",
    "            print(\"Epoch \" + str(i/total_batch+1) +\"\\tCost: {:.3f}\\t\".format(loss)+\", Accuracy= {:.3f}\".format(acc))\n",
    "    te = time.time()\n",
    "    print('Time Cost:{:.3f}s'.format(te-ts))\n",
    "    print(\"Testing ACcuracy:\", sess.run(accuracy, feed_dict={X: mnist.test.images, Y: mnist.test.labels}))"
   ]
  },
  {
   "cell_type": "markdown",
   "metadata": {},
   "source": [
    "<h>Batch Size: 256</h>"
   ]
  },
  {
   "cell_type": "code",
   "execution_count": 4,
   "metadata": {},
   "outputs": [
    {
     "name": "stdout",
     "output_type": "stream",
     "text": [
      "Epoch 1.0\tCost: 2.569\t, Accuracy= 0.086\n",
      "Epoch 2.0\tCost: 1.304\t, Accuracy= 0.652\n",
      "Epoch 3.0\tCost: 0.766\t, Accuracy= 0.797\n",
      "Time Cost:1.193s\n",
      "Testing ACcuracy: 0.8556\n"
     ]
    }
   ],
   "source": [
    "#learning rate\n",
    "lr = 0.01\n",
    "#number of traning epochs\n",
    "epochs = 3\n",
    "#number of batch_size\n",
    "batch_size = 256\n",
    "total_batch = int(mnist.train.num_examples/batch_size)\n",
    "num_steps = epochs * total_batch\n",
    "\n",
    "#network parameters\n",
    "n_hidden_1 = 128\n",
    "num_input = 784\n",
    "num_classes = 10\n",
    "\n",
    "tf.reset_default_graph()\n",
    "#tf graph input\n",
    "X = tf.placeholder(tf.float32,[None,num_input],name='X')\n",
    "Y = tf.placeholder(tf.int32,[None,num_classes],name='Y')\n",
    "\n",
    "#Layers weight & bias\n",
    "weights = {\n",
    "    'W1': tf.Variable(tf.random_normal([num_input, n_hidden_1],stddev=0.1),name='W1'),\n",
    "    'Wout': tf.Variable(tf.random_normal([n_hidden_1, num_classes],stddev=0.1),name='Wout')\n",
    "}\n",
    "\n",
    "biases = {\n",
    "    'b1': tf.Variable(tf.zeros(shape=[n_hidden_1]),name='b1'),\n",
    "    'bout': tf.Variable(tf.zeros(shape=[num_classes]),name='bout')\n",
    "}\n",
    "\n",
    "#define a neural net model\n",
    "def neural_net(x):\n",
    "    layer_1_out = tf.nn.relu(tf.add(tf.matmul(x,weights['W1']),biases['b1']))\n",
    "    out = tf.add(tf.matmul(layer_1_out,weights['Wout']),biases['bout'])\n",
    "    return out\n",
    "\n",
    "#predicted labels\n",
    "logits = neural_net(X)\n",
    "Y_hat = tf.nn.softmax(logits)\n",
    "\n",
    "#define cost\n",
    "cost = tf.reduce_mean(tf.nn.softmax_cross_entropy_with_logits_v2(logits=logits,labels=Y),name='cost')\n",
    "#define optimizer\n",
    "optimizer = tf.train.GradientDescentOptimizer(learning_rate=lr)\n",
    "train_op = optimizer.minimize(cost)\n",
    "\n",
    "#compare the predicted labels with true labels\n",
    "correct_pred = tf.equal(tf.argmax(Y_hat,1),tf.argmax(Y,1))\n",
    "\n",
    "#compute the accuracy by taking average\n",
    "accuracy = tf.reduce_mean(tf.cast(correct_pred,tf.float32),name='accuracy')\n",
    "\n",
    "#Initialize the variables\n",
    "init = tf.global_variables_initializer()\n",
    "\n",
    "with tf.Session() as sess:\n",
    "    sess.run(init)\n",
    "    ts = time.time()\n",
    "    for i in range(num_steps):\n",
    "        # fetch batch\n",
    "        batch_x, batch_y = mnist.train.next_batch(batch_size)\n",
    "        # run optimization\n",
    "        _, loss = sess.run([train_op, cost], feed_dict={X: batch_x, Y: batch_y})\n",
    "        if i % total_batch == 0:\n",
    "            \n",
    "            acc = sess.run(accuracy, feed_dict={X: batch_x, Y: batch_y})\n",
    "            print(\"Epoch \" + str(i/total_batch+1) +\"\\tCost: {:.3f}\\t\".format(loss)+\", Accuracy= {:.3f}\".format(acc))\n",
    "    te = time.time()\n",
    "    print('Time Cost:{:.3f}s'.format(te-ts))\n",
    "    print(\"Testing ACcuracy:\", sess.run(accuracy, feed_dict={X: mnist.test.images, Y: mnist.test.labels}))"
   ]
  },
  {
   "cell_type": "markdown",
   "metadata": {},
   "source": [
    "<h>Batch Size: 1024</h>"
   ]
  },
  {
   "cell_type": "code",
   "execution_count": 6,
   "metadata": {},
   "outputs": [
    {
     "name": "stdout",
     "output_type": "stream",
     "text": [
      "Epoch 1.0\tCost: 2.624\t, Accuracy= 0.064\n",
      "Epoch 2.0\tCost: 1.956\t, Accuracy= 0.382\n",
      "Epoch 3.0\tCost: 1.583\t, Accuracy= 0.599\n",
      "Time Cost:0.691s\n",
      "Testing ACcuracy: 0.6807\n"
     ]
    }
   ],
   "source": [
    "#learning rate\n",
    "lr = 0.01\n",
    "#number of traning epochs\n",
    "epochs = 3\n",
    "#number of batch_size\n",
    "batch_size = 1024\n",
    "total_batch = int(mnist.train.num_examples/batch_size)\n",
    "num_steps = epochs * total_batch\n",
    "\n",
    "#network parameters\n",
    "n_hidden_1 = 128\n",
    "\n",
    "num_input = 784\n",
    "num_classes = 10\n",
    "\n",
    "tf.reset_default_graph()\n",
    "#tf graph input\n",
    "X = tf.placeholder(tf.float32,[None,num_input],name='X')\n",
    "Y = tf.placeholder(tf.int32,[None,num_classes],name='Y')\n",
    "\n",
    "#Layers weight & bias\n",
    "weights = {\n",
    "    'W1': tf.Variable(tf.random_normal([num_input, n_hidden_1],stddev=0.1),name='W1'),\n",
    "    'Wout': tf.Variable(tf.random_normal([n_hidden_1, num_classes],stddev=0.1),name='Wout')\n",
    "}\n",
    "\n",
    "biases = {\n",
    "    'b1': tf.Variable(tf.zeros(shape=[n_hidden_1]),name='b1'),\n",
    "    'bout': tf.Variable(tf.zeros(shape=[num_classes]),name='bout')\n",
    "}\n",
    "\n",
    "#define a neural net model\n",
    "def neural_net(x):\n",
    "    layer_1_out = tf.nn.relu(tf.add(tf.matmul(x,weights['W1']),biases['b1']))\n",
    "    out = tf.add(tf.matmul(layer_1_out,weights['Wout']),biases['bout'])\n",
    "    return out\n",
    "\n",
    "#predicted labels\n",
    "logits = neural_net(X)\n",
    "Y_hat = tf.nn.softmax(logits)\n",
    "\n",
    "#define cost\n",
    "cost = tf.reduce_mean(tf.nn.softmax_cross_entropy_with_logits_v2(logits=logits,labels=Y),name='cost')\n",
    "#define optimizer\n",
    "optimizer = tf.train.GradientDescentOptimizer(learning_rate=lr)\n",
    "train_op = optimizer.minimize(cost)\n",
    "\n",
    "#compare the predicted labels with true labels\n",
    "correct_pred = tf.equal(tf.argmax(Y_hat,1),tf.argmax(Y,1))\n",
    "\n",
    "#compute the accuracy by taking average\n",
    "accuracy = tf.reduce_mean(tf.cast(correct_pred,tf.float32),name='accuracy')\n",
    "\n",
    "#Initialize the variables\n",
    "init = tf.global_variables_initializer()\n",
    "\n",
    "with tf.Session() as sess:\n",
    "    sess.run(init)\n",
    "    ts = time.time()\n",
    "    for i in range(num_steps):\n",
    "        # fetch batch\n",
    "        batch_x, batch_y = mnist.train.next_batch(batch_size)\n",
    "        # run optimization\n",
    "        _, loss = sess.run([train_op, cost], feed_dict={X: batch_x, Y: batch_y})\n",
    "        if i % total_batch == 0:\n",
    "            \n",
    "            acc = sess.run(accuracy, feed_dict={X: batch_x, Y: batch_y})\n",
    "            print(\"Epoch \" + str(i/total_batch+1) +\"\\tCost: {:.3f}\\t\".format(loss)+\", Accuracy= {:.3f}\".format(acc))\n",
    "    te = time.time()\n",
    "    print('Time Cost:{:.3f}s'.format(te-ts))\n",
    "    print(\"Testing ACcuracy:\", sess.run(accuracy, feed_dict={X: mnist.test.images, Y: mnist.test.labels}))"
   ]
  },
  {
   "cell_type": "code",
   "execution_count": null,
   "metadata": {},
   "outputs": [],
   "source": []
  }
 ],
 "metadata": {
  "kernelspec": {
   "display_name": "Python 3",
   "language": "python",
   "name": "python3"
  },
  "language_info": {
   "codemirror_mode": {
    "name": "ipython",
    "version": 3
   },
   "file_extension": ".py",
   "mimetype": "text/x-python",
   "name": "python",
   "nbconvert_exporter": "python",
   "pygments_lexer": "ipython3",
   "version": "3.7.3"
  }
 },
 "nbformat": 4,
 "nbformat_minor": 2
}
